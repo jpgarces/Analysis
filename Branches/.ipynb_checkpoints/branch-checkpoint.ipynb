{
 "cells": [
  {
   "cell_type": "markdown",
   "metadata": {},
   "source": [
    "# Plot source and branch spectra"
   ]
  },
  {
   "cell_type": "markdown",
   "metadata": {},
   "source": [
    "### Import packages"
   ]
  },
  {
   "cell_type": "code",
   "execution_count": 76,
   "metadata": {},
   "outputs": [],
   "source": [
    "from astropy.io import fits\n",
    "from astropy.coordinates import SkyCoord\n",
    "from astropy import units as u \n",
    "from astropy import wcs\n",
    "import matplotlib\n",
    "matplotlib.use('TkAgg')\n",
    "import matplotlib.pyplot as plt\n",
    "import numpy as np\n",
    "%matplotlib inline"
   ]
  },
  {
   "cell_type": "markdown",
   "metadata": {},
   "source": [
    "### Open data file"
   ]
  },
  {
   "cell_type": "code",
   "execution_count": 77,
   "metadata": {},
   "outputs": [],
   "source": [
    "filename_gas=fits.open('/home/jp/Desktop/Research/Data2.0/Serpens/Serpens_Feather_c18o.fits')"
   ]
  },
  {
   "cell_type": "markdown",
   "metadata": {},
   "source": [
    "### Obtain RMS"
   ]
  },
  {
   "cell_type": "code",
   "execution_count": 78,
   "metadata": {},
   "outputs": [],
   "source": [
    "mom0_rms=np.mean(filename_gas[0].data[:,689:719,939:977].std())\n",
    "levs_3=3*mom0_rms"
   ]
  },
  {
   "cell_type": "markdown",
   "metadata": {},
   "source": [
    "### Source coordinates"
   ]
  },
  {
   "cell_type": "code",
   "execution_count": 79,
   "metadata": {},
   "outputs": [],
   "source": [
    "filenametxt='/home/jp/Desktop/Research/Data/sourcecoordinates.txt'\n",
    "ra,dec = np.loadtxt(filenametxt,unpack=True,usecols=(0,1),dtype='S')"
   ]
  },
  {
   "cell_type": "code",
   "execution_count": 80,
   "metadata": {},
   "outputs": [],
   "source": [
    "Ra=[]\n",
    "Dec=[]\n",
    "for i in range(len(ra)):\n",
    "    Ra.append(ra[i].decode(\"utf-8\"))\n",
    "for i in range(len(dec)):\n",
    "    Dec.append(dec[i].decode(\"utf-8\"))"
   ]
  },
  {
   "cell_type": "code",
   "execution_count": 81,
   "metadata": {},
   "outputs": [],
   "source": [
    "coord=SkyCoord(Ra,Dec,frame='icrs',unit=(u.hourangle,u.deg))"
   ]
  },
  {
   "cell_type": "markdown",
   "metadata": {},
   "source": [
    "### Convert degree to pixel"
   ]
  },
  {
   "cell_type": "code",
   "execution_count": 82,
   "metadata": {},
   "outputs": [],
   "source": [
    "filename='/home/jp/Desktop/Research/Data2.0/moment_0_New.fits'\n",
    "Pixlist=[]\n",
    "hdulist = fits.open(filename)\n",
    "w=wcs.WCS(hdulist[0].header)\n",
    "for i in range(len(coord)):\n",
    "\tarr=np.array([[coord.ra[i].value,coord.dec[i].value]])\n",
    "\t#to make this line work use moment0 map.\n",
    "\txpix,ypix=w.all_world2pix(arr,0)[0]\n",
    "\tPixlist.append((xpix,ypix))"
   ]
  },
  {
   "cell_type": "markdown",
   "metadata": {},
   "source": [
    "### Specify source number"
   ]
  },
  {
   "cell_type": "code",
   "execution_count": 83,
   "metadata": {},
   "outputs": [],
   "source": [
    "source_num=24"
   ]
  },
  {
   "cell_type": "code",
   "execution_count": 84,
   "metadata": {},
   "outputs": [],
   "source": [
    "a=source_num-1\n",
    "chan=72\n",
    "xpix=int(round(Pixlist[a][0]))\n",
    "ypix=int(round(Pixlist[a][1]))"
   ]
  },
  {
   "cell_type": "markdown",
   "metadata": {},
   "source": [
    "### Specify branch pixels"
   ]
  },
  {
   "cell_type": "code",
   "execution_count": 85,
   "metadata": {},
   "outputs": [],
   "source": [
    "xpix2=1463\n",
    "ypix2=978"
   ]
  },
  {
   "cell_type": "markdown",
   "metadata": {},
   "source": [
    "### (xpix,ypix)-> s17: (1603,1216); s15: (1545,1780); s29: (1374,1380); s9: (1740,1680); s10: (1952,1823); s27: (1501,868); s57: (1176,1375); s24: (1463,978)"
   ]
  },
  {
   "cell_type": "markdown",
   "metadata": {},
   "source": [
    "### Open file"
   ]
  },
  {
   "cell_type": "code",
   "execution_count": 86,
   "metadata": {},
   "outputs": [],
   "source": [
    "hdu=filename_gas"
   ]
  },
  {
   "cell_type": "markdown",
   "metadata": {},
   "source": [
    "### Extract header info"
   ]
  },
  {
   "cell_type": "code",
   "execution_count": 87,
   "metadata": {},
   "outputs": [],
   "source": [
    "vo=hdu[0].header['CRVAL3']/1000\n",
    "deltv=hdu[0].header['CDELT3']/1000"
   ]
  },
  {
   "cell_type": "markdown",
   "metadata": {},
   "source": [
    "### Create arrays to plot"
   ]
  },
  {
   "cell_type": "code",
   "execution_count": 88,
   "metadata": {},
   "outputs": [],
   "source": [
    "l1array=vo+np.arange(chan)*deltv\n",
    "l2array=hdu[0].data[:,ypix,xpix]\n",
    "l3array=np.mean(hdu[0].data[:,ypix-2:ypix+2,xpix-2:xpix+2],axis=(1,2))\n",
    "l4array=np.mean(hdu[0].data[:,ypix2-4:ypix2+4,xpix2-4:xpix2+4],axis=(1,2))"
   ]
  },
  {
   "cell_type": "markdown",
   "metadata": {},
   "source": [
    "### Create 3-sigma line"
   ]
  },
  {
   "cell_type": "code",
   "execution_count": 89,
   "metadata": {},
   "outputs": [],
   "source": [
    "l=[]\n",
    "for i in range(len(l1array)):\n",
    "\tl.append(levs_3)"
   ]
  },
  {
   "cell_type": "markdown",
   "metadata": {},
   "source": [
    "### Plot"
   ]
  },
  {
   "cell_type": "code",
   "execution_count": 90,
   "metadata": {},
   "outputs": [
    {
     "data": {
      "text/plain": [
       "<matplotlib.legend.Legend at 0x7ff9940be550>"
      ]
     },
     "execution_count": 90,
     "metadata": {},
     "output_type": "execute_result"
    },
    {
     "data": {
      "image/png": "[encoded data removed]",
      "text/plain": [
       "<Figure size 432x288 with 1 Axes>"
      ]
     },
     "metadata": {
      "needs_background": "light"
     },
     "output_type": "display_data"
    }
   ],
   "source": [
    "plt.figure(ra[0].decode(\"utf-8\")+','+dec[0].decode(\"utf-8\"))\n",
    "plt.title('Source '+str(source_num))\n",
    "plt.xlabel('Velocity [km/s]')\n",
    "plt.ylabel('Intensity [Jy/beam]')\n",
    "#plt.plot(l1array,l2array,drawstyle='steps-mid')\n",
    "plt.plot(l1array,l3array,drawstyle='steps-mid')\n",
    "plt.plot(l1array,l4array,drawstyle='steps-mid',color='red',label='branch')\n",
    "plt.plot(l1array,l,color='gray',linestyle='--',label='3$\\sigma$')\n",
    "plt.legend()"
   ]
  }
 ],
 "metadata": {
  "kernelspec": {
   "display_name": "Python 3",
   "language": "python",
   "name": "python3"
  },
  "language_info": {
   "codemirror_mode": {
    "name": "ipython",
    "version": 3
   },
   "file_extension": ".py",
   "mimetype": "text/x-python",
   "name": "python",
   "nbconvert_exporter": "python",
   "pygments_lexer": "ipython3",
   "version": "3.8.3"
  }
 },
 "nbformat": 4,
 "nbformat_minor": 4
}
