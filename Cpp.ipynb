{
 "cells": [
  {
   "cell_type": "markdown",
   "metadata": {},
   "source": [
    "### Include libraries"
   ]
  },
  {
   "cell_type": "code",
   "execution_count": 2,
   "metadata": {},
   "outputs": [],
   "source": [
    "#include <cstdlib>\n",
    "#include <iostream>\n",
    "#include <string>\n",
    "#include <vector>\n",
    "#include <numeric>"
   ]
  },
  {
   "cell_type": "markdown",
   "metadata": {},
   "source": [
    "### Show on screen"
   ]
  },
  {
   "cell_type": "code",
   "execution_count": 2,
   "metadata": {},
   "outputs": [
    {
     "name": "stdout",
     "output_type": "stream",
     "text": [
      "Hello"
     ]
    }
   ],
   "source": [
    "std::cout << \"Hello\";"
   ]
  },
  {
   "cell_type": "markdown",
   "metadata": {},
   "source": [
    "### Define variables"
   ]
  },
  {
   "cell_type": "code",
   "execution_count": 4,
   "metadata": {},
   "outputs": [],
   "source": [
    "const double PI=3.1415;"
   ]
  },
  {
   "cell_type": "code",
   "execution_count": 7,
   "metadata": {},
   "outputs": [
    {
     "name": "stdout",
     "output_type": "stream",
     "text": [
      "(const double) 3.1415000\n"
     ]
    }
   ],
   "source": [
    "PI"
   ]
  },
  {
   "cell_type": "code",
   "execution_count": 8,
   "metadata": {},
   "outputs": [],
   "source": [
    "bool man=true;"
   ]
  },
  {
   "cell_type": "code",
   "execution_count": 9,
   "metadata": {},
   "outputs": [
    {
     "name": "stdout",
     "output_type": "stream",
     "text": [
      "(bool) true\n"
     ]
    }
   ],
   "source": [
    "man"
   ]
  },
  {
   "cell_type": "code",
   "execution_count": 17,
   "metadata": {},
   "outputs": [],
   "source": [
    "char grade='A';"
   ]
  },
  {
   "cell_type": "code",
   "execution_count": 18,
   "metadata": {},
   "outputs": [],
   "source": [
    "int age=22;"
   ]
  },
  {
   "cell_type": "code",
   "execution_count": 19,
   "metadata": {},
   "outputs": [],
   "source": [
    "long numb=11000000;"
   ]
  },
  {
   "cell_type": "code",
   "execution_count": 20,
   "metadata": {},
   "outputs": [],
   "source": [
    "float fpi=3.14159;"
   ]
  },
  {
   "cell_type": "code",
   "execution_count": 21,
   "metadata": {},
   "outputs": [],
   "source": [
    "double dnumb=1.11111111111111111111;"
   ]
  },
  {
   "cell_type": "code",
   "execution_count": 22,
   "metadata": {},
   "outputs": [],
   "source": [
    "long double ldpi=3.14159;"
   ]
  },
  {
   "cell_type": "markdown",
   "metadata": {},
   "source": [
    "### Print"
   ]
  },
  {
   "cell_type": "code",
   "execution_count": 25,
   "metadata": {},
   "outputs": [
    {
     "name": "stdout",
     "output_type": "stream",
     "text": [
      "Float: 3.142\n",
      "(int) 13\n"
     ]
    }
   ],
   "source": [
    "printf(\"Float: %.3f\\n\",fpi)"
   ]
  },
  {
   "cell_type": "code",
   "execution_count": 28,
   "metadata": {},
   "outputs": [
    {
     "name": "stdout",
     "output_type": "stream",
     "text": [
      "A 10     5 3.123 Hi\n",
      "(int) 20\n"
     ]
    }
   ],
   "source": [
    "printf(\"%c %d %5d %.3f %s\\n\",'A',10,5,3.1234,\"Hi\")"
   ]
  },
  {
   "cell_type": "markdown",
   "metadata": {},
   "source": [
    "### Convert from string to integer"
   ]
  },
  {
   "cell_type": "code",
   "execution_count": 33,
   "metadata": {},
   "outputs": [],
   "source": [
    "std::string snum1=\"12\";\n",
    "std::string snum2=\"13\";"
   ]
  },
  {
   "cell_type": "code",
   "execution_count": 34,
   "metadata": {},
   "outputs": [],
   "source": [
    "int inum1=std::stoi(snum1);\n",
    "int inum2=std::stoi(snum2);"
   ]
  },
  {
   "cell_type": "code",
   "execution_count": 37,
   "metadata": {},
   "outputs": [
    {
     "name": "stdout",
     "output_type": "stream",
     "text": [
      "12+13=25\n",
      "(int) 9\n"
     ]
    }
   ],
   "source": [
    "printf(\"%d+%d=%d\\n\",inum1,inum2,(inum1+inum2))"
   ]
  },
  {
   "cell_type": "code",
   "execution_count": 38,
   "metadata": {},
   "outputs": [
    {
     "name": "stdout",
     "output_type": "stream",
     "text": [
      "12%13=12\n",
      "(int) 9\n"
     ]
    }
   ],
   "source": [
    "printf(\"%d %% %d=%d\\n\",inum1,inum2,(inum1%inum2))"
   ]
  },
  {
   "cell_type": "markdown",
   "metadata": {},
   "source": [
    "### Booleans"
   ]
  },
  {
   "cell_type": "code",
   "execution_count": 39,
   "metadata": {},
   "outputs": [
    {
     "name": "stdout",
     "output_type": "stream",
     "text": [
      "(bool) true\n"
     ]
    }
   ],
   "source": [
    "true && true"
   ]
  },
  {
   "cell_type": "code",
   "execution_count": 40,
   "metadata": {},
   "outputs": [
    {
     "name": "stdout",
     "output_type": "stream",
     "text": [
      "(bool) false\n"
     ]
    }
   ],
   "source": [
    "true && false"
   ]
  },
  {
   "cell_type": "code",
   "execution_count": 41,
   "metadata": {},
   "outputs": [
    {
     "name": "stdout",
     "output_type": "stream",
     "text": [
      "(bool) true\n"
     ]
    }
   ],
   "source": [
    "true || false"
   ]
  },
  {
   "cell_type": "code",
   "execution_count": 42,
   "metadata": {},
   "outputs": [
    {
     "name": "stdout",
     "output_type": "stream",
     "text": [
      "(bool) false\n"
     ]
    }
   ],
   "source": [
    "false || false"
   ]
  },
  {
   "cell_type": "code",
   "execution_count": 44,
   "metadata": {},
   "outputs": [
    {
     "name": "stdout",
     "output_type": "stream",
     "text": [
      "Non important Birthday\n"
     ]
    }
   ],
   "source": [
    "if((age>=1) && (age<=18)){\n",
    "    std::cout << \"Important Birthday\\n\";\n",
    "}else if((age>18)){\n",
    "    std::cout << \"Non important Birthday\\n\";\n",
    "}"
   ]
  },
  {
   "cell_type": "markdown",
   "metadata": {},
   "source": [
    "### Arrays"
   ]
  },
  {
   "cell_type": "code",
   "execution_count": 45,
   "metadata": {},
   "outputs": [],
   "source": [
    "int arrnum1[]={1,2,3};\n",
    "int arrnum2[10]={1,2,3,4,5};"
   ]
  },
  {
   "cell_type": "code",
   "execution_count": 46,
   "metadata": {},
   "outputs": [
    {
     "name": "stdout",
     "output_type": "stream",
     "text": [
      "(int) 3\n"
     ]
    }
   ],
   "source": [
    "arrnum1[2]"
   ]
  },
  {
   "cell_type": "code",
   "execution_count": 47,
   "metadata": {},
   "outputs": [
    {
     "name": "stdout",
     "output_type": "stream",
     "text": [
      "(int) 0\n"
     ]
    }
   ],
   "source": [
    "arrnum2[8]"
   ]
  },
  {
   "cell_type": "code",
   "execution_count": 51,
   "metadata": {},
   "outputs": [
    {
     "name": "stdout",
     "output_type": "stream",
     "text": [
      "(int [10]) { 1, 30, 3, 4, 5, 0, 0, 0, 0, 0 }\n"
     ]
    }
   ],
   "source": [
    "arrnum2[1]=30;\n",
    "arrnum2"
   ]
  },
  {
   "cell_type": "code",
   "execution_count": 52,
   "metadata": {},
   "outputs": [
    {
     "name": "stdout",
     "output_type": "stream",
     "text": [
      "(unsigned long) 10\n"
     ]
    }
   ],
   "source": [
    "sizeof(arrnum2)/sizeof(*arrnum2)"
   ]
  },
  {
   "cell_type": "code",
   "execution_count": 54,
   "metadata": {},
   "outputs": [
    {
     "name": "stdout",
     "output_type": "stream",
     "text": [
      "(unsigned long) 40\n"
     ]
    }
   ],
   "source": [
    "sizeof(arrnum2)"
   ]
  },
  {
   "cell_type": "code",
   "execution_count": 53,
   "metadata": {},
   "outputs": [
    {
     "name": "stdout",
     "output_type": "stream",
     "text": [
      "(unsigned long) 4\n"
     ]
    }
   ],
   "source": [
    "sizeof(*arrnum2)"
   ]
  },
  {
   "cell_type": "code",
   "execution_count": 55,
   "metadata": {},
   "outputs": [
    {
     "name": "stdout",
     "output_type": "stream",
     "text": [
      "(int [2][2][2]) { { { 1, 2 }, { 3, 4 } }, { { 5, 6 }, { 7, 8 } } }\n"
     ]
    }
   ],
   "source": [
    "int arrnum3[2][2][2]={{{1,2},{3,4}},{{5,6},{7,8}}}"
   ]
  },
  {
   "cell_type": "code",
   "execution_count": 56,
   "metadata": {},
   "outputs": [
    {
     "name": "stdout",
     "output_type": "stream",
     "text": [
      "(int) 8\n"
     ]
    }
   ],
   "source": [
    "arrnum3[1][1][1]"
   ]
  },
  {
   "cell_type": "markdown",
   "metadata": {},
   "source": [
    "### Vectors"
   ]
  },
  {
   "cell_type": "code",
   "execution_count": 57,
   "metadata": {},
   "outputs": [],
   "source": [
    "std::vector<int> vec(2);//vector with two spaces\n",
    "vec[0]=10;\n",
    "vec[1]=1;\n",
    "vec.push_back(30); //add extra value to vector"
   ]
  },
  {
   "cell_type": "code",
   "execution_count": 58,
   "metadata": {},
   "outputs": [
    {
     "name": "stdout",
     "output_type": "stream",
     "text": [
      "30"
     ]
    }
   ],
   "source": [
    "std::cout << vec[vec.size()-1];"
   ]
  },
  {
   "cell_type": "code",
   "execution_count": 60,
   "metadata": {},
   "outputs": [],
   "source": [
    "std::vector<int> vec1(10);\n",
    "for(int i = 0;i<vec1.size();++i){\n",
    "    vec1[i]=i*i;\n",
    "}"
   ]
  },
  {
   "cell_type": "code",
   "execution_count": 61,
   "metadata": {},
   "outputs": [
    {
     "name": "stdout",
     "output_type": "stream",
     "text": [
      "(std::vector<int> &) { 0, 1, 4, 9, 16, 25, 36, 49, 64, 81 }\n"
     ]
    }
   ],
   "source": [
    "vec1"
   ]
  },
  {
   "cell_type": "code",
   "execution_count": 62,
   "metadata": {},
   "outputs": [],
   "source": [
    "std:: vector<int> myvec(10);\n",
    "std::iota(std::begin(myvec),std::end(myvec),0);"
   ]
  },
  {
   "cell_type": "code",
   "execution_count": 63,
   "metadata": {},
   "outputs": [
    {
     "name": "stdout",
     "output_type": "stream",
     "text": [
      "(std::vector<int> &) { 0, 1, 2, 3, 4, 5, 6, 7, 8, 9 }\n"
     ]
    }
   ],
   "source": [
    "myvec"
   ]
  },
  {
   "cell_type": "markdown",
   "metadata": {},
   "source": [
    "### Functions"
   ]
  },
  {
   "cell_type": "code",
   "execution_count": 70,
   "metadata": {},
   "outputs": [],
   "source": [
    "double Addnumb(double n1,double n2){\n",
    "    return n1+n2;\n",
    "}"
   ]
  },
  {
   "cell_type": "code",
   "execution_count": 71,
   "metadata": {},
   "outputs": [
    {
     "name": "stdout",
     "output_type": "stream",
     "text": [
      "(double) 94.000000\n"
     ]
    }
   ],
   "source": [
    "Addnumb(90,4)"
   ]
  },
  {
   "cell_type": "code",
   "execution_count": 82,
   "metadata": {},
   "outputs": [],
   "source": [
    "void AssignAge(int age);\n",
    "int AssignAge2(int age);"
   ]
  },
  {
   "cell_type": "code",
   "execution_count": 103,
   "metadata": {},
   "outputs": [],
   "source": [
    "void AssignAge(int age){\n",
    "    age=2;\n",
    "}"
   ]
  },
  {
   "cell_type": "code",
   "execution_count": 95,
   "metadata": {},
   "outputs": [],
   "source": [
    "int AssignAge2(int age){\n",
    "    age=24;\n",
    "    return age;\n",
    "}"
   ]
  },
  {
   "cell_type": "code",
   "execution_count": 91,
   "metadata": {},
   "outputs": [],
   "source": [
    "int age=1;"
   ]
  },
  {
   "cell_type": "code",
   "execution_count": 104,
   "metadata": {},
   "outputs": [],
   "source": [
    "AssignAge(age);"
   ]
  },
  {
   "cell_type": "code",
   "execution_count": 105,
   "metadata": {},
   "outputs": [
    {
     "name": "stdout",
     "output_type": "stream",
     "text": [
      "New age: 24"
     ]
    }
   ],
   "source": [
    "std::cout<<\"New age: \"<<age;"
   ]
  },
  {
   "cell_type": "code",
   "execution_count": 99,
   "metadata": {},
   "outputs": [],
   "source": [
    "age=AssignAge2(age);"
   ]
  },
  {
   "cell_type": "code",
   "execution_count": 100,
   "metadata": {},
   "outputs": [
    {
     "name": "stdout",
     "output_type": "stream",
     "text": [
      "Returned age: 24"
     ]
    }
   ],
   "source": [
    "std::cout << \"Returned age: \" << age;"
   ]
  },
  {
   "cell_type": "markdown",
   "metadata": {},
   "source": [
    "### Pointers"
   ]
  },
  {
   "cell_type": "code",
   "execution_count": 106,
   "metadata": {},
   "outputs": [],
   "source": [
    "int age=43;"
   ]
  },
  {
   "cell_type": "code",
   "execution_count": 107,
   "metadata": {},
   "outputs": [],
   "source": [
    "int* pAge=NULL;"
   ]
  },
  {
   "cell_type": "code",
   "execution_count": 108,
   "metadata": {},
   "outputs": [],
   "source": [
    "pAge=&age;"
   ]
  },
  {
   "cell_type": "code",
   "execution_count": 110,
   "metadata": {},
   "outputs": [
    {
     "name": "stdout",
     "output_type": "stream",
     "text": [
      "(int *) 0x7fc15cc421d8\n"
     ]
    }
   ],
   "source": [
    "pAge"
   ]
  },
  {
   "cell_type": "code",
   "execution_count": 111,
   "metadata": {},
   "outputs": [
    {
     "name": "stdout",
     "output_type": "stream",
     "text": [
      "(int) 43\n"
     ]
    }
   ],
   "source": [
    "*pAge"
   ]
  },
  {
   "cell_type": "code",
   "execution_count": 112,
   "metadata": {},
   "outputs": [],
   "source": [
    "int arr[]={1,2,3,4};"
   ]
  },
  {
   "cell_type": "code",
   "execution_count": 113,
   "metadata": {},
   "outputs": [],
   "source": [
    "int* parr=arr;"
   ]
  },
  {
   "cell_type": "code",
   "execution_count": 116,
   "metadata": {},
   "outputs": [
    {
     "name": "stdout",
     "output_type": "stream",
     "text": [
      "array: 1 Address: 0x7fc15cc421f0"
     ]
    }
   ],
   "source": [
    "std::cout << \"array: \" << *parr << \" Address: \" << parr;"
   ]
  },
  {
   "cell_type": "code",
   "execution_count": 117,
   "metadata": {},
   "outputs": [
    {
     "name": "stdout",
     "output_type": "stream",
     "text": [
      "array: 2 Address: 0x7fc15cc421f4"
     ]
    }
   ],
   "source": [
    "parr++;\n",
    "std::cout << \"array: \" << *parr << \" Address: \" << parr;"
   ]
  },
  {
   "cell_type": "code",
   "execution_count": 118,
   "metadata": {},
   "outputs": [
    {
     "name": "stdout",
     "output_type": "stream",
     "text": [
      "array: 3 Address: 0x7fc15cc421f8"
     ]
    }
   ],
   "source": [
    "parr++;\n",
    "std::cout << \"array: \" << *parr << \" Address: \" << parr;"
   ]
  },
  {
   "cell_type": "markdown",
   "metadata": {},
   "source": [
    "### While and for loop"
   ]
  },
  {
   "cell_type": "code",
   "execution_count": 119,
   "metadata": {},
   "outputs": [
    {
     "name": "stdout",
     "output_type": "stream",
     "text": [
      "1\n",
      "3\n",
      "5\n",
      "7\n",
      "9\n",
      "11\n",
      "13\n"
     ]
    }
   ],
   "source": [
    "int i=1;\n",
    "while(i<=20){\n",
    "    if((i%2)==0){\n",
    "        i+=1;\n",
    "        continue;\n",
    "    }\n",
    "    if(i==15)break;\n",
    "    std::cout << i << \"\\n\";\n",
    "    i +=1;\n",
    "}"
   ]
  },
  {
   "cell_type": "code",
   "execution_count": 6,
   "metadata": {},
   "outputs": [
    {
     "name": "stdout",
     "output_type": "stream",
     "text": [
      "Number: 0\n",
      "Number: 1\n",
      "Number: 2\n",
      "Number: 3\n",
      "Number: 4\n",
      "Number: 5\n",
      "Number: 6\n",
      "Number: 7\n",
      "Number: 8\n",
      "Number: 9\n",
      "Number: 10\n",
      "Number: 11\n",
      "Number: 12\n",
      "Number: 13\n",
      "Number: 14\n",
      "Number: 15\n",
      "Number: 16\n",
      "Number: 17\n",
      "Number: 18\n",
      "Number: 19\n",
      "Number: 20\n"
     ]
    }
   ],
   "source": [
    "for(int x=0;x<=20;x++){\n",
    "    std::cout << \"Number: \" << x << \"\\n\";\n",
    "}"
   ]
  },
  {
   "cell_type": "markdown",
   "metadata": {},
   "source": [
    "### If you don't want to write std all the time"
   ]
  },
  {
   "cell_type": "code",
   "execution_count": 7,
   "metadata": {},
   "outputs": [],
   "source": [
    "using namespace std;"
   ]
  },
  {
   "cell_type": "markdown",
   "metadata": {},
   "source": [
    "### Classes"
   ]
  },
  {
   "cell_type": "code",
   "execution_count": 34,
   "metadata": {},
   "outputs": [],
   "source": [
    "class PadelMatch{\n",
    "private: \n",
    "    string place;\n",
    "    int sets;\n",
    "    int wins;\n",
    "    int lost;\n",
    "    \n",
    "    static int totalwins;\n",
    "    \n",
    "    static int totallost; //shared variable between all objects\n",
    "    public:\n",
    "    PadelMatch(string plac, int nsets, int setswon, int setslost){\n",
    "        place=plac;\n",
    "        sets=nsets;\n",
    "        wins=setswon;\n",
    "        lost=setslost;\n",
    "    }\n",
    "    void count(){\n",
    "        if(wins>lost){\n",
    "            PadelMatch::totalwins++;\n",
    "        }\n",
    "        if(wins<lost){\n",
    "            PadelMatch::totallost++;\n",
    "        }\n",
    "    }\n",
    "    void numwins(){\n",
    "        cout << \"You have won \" << totalwins << \" times\" << endl;\n",
    "    }\n",
    "    void numlost(){\n",
    "        cout << \"You have lost \" << totallost << \" times\" << endl;\n",
    "    }\n",
    "    void eval(){\n",
    "        if(totalwins>totallost){\n",
    "            cout << \"You are better than the other players\" << endl;\n",
    "        }else{\n",
    "            cout << \"Keep practicing, you are loosing\" << endl;\n",
    "        }\n",
    "    }\n",
    "    void result(){\n",
    "        if(wins>lost){\n",
    "            cout << \"You won\" << endl;\n",
    "        }\n",
    "        if(wins<lost){\n",
    "            cout << \"You lost\" << endl;\n",
    "        }\n",
    "    }\n",
    "}"
   ]
  },
  {
   "cell_type": "code",
   "execution_count": 35,
   "metadata": {},
   "outputs": [
    {
     "name": "stderr",
     "output_type": "stream",
     "text": [
      "\u001b[1minput_line_86:2:18: \u001b[0m\u001b[0;1;31merror: \u001b[0m\u001b[1mdefinition or redeclaration of 'totalwins' not allowed inside a function\u001b[0m\n",
      " int PadelMatch::totalwins=0;\n",
      "\u001b[0;1;32m     ~~~~~~~~~~~~^\n",
      "\u001b[0m\u001b[1minput_line_86:3:17: \u001b[0m\u001b[0;1;31merror: \u001b[0m\u001b[1mdefinition or redeclaration of 'totallost' not allowed inside a function\u001b[0m\n",
      "int PadelMatch::totallost=0;\n",
      "\u001b[0;1;32m    ~~~~~~~~~~~~^\n",
      "\u001b[0m"
     ]
    }
   ],
   "source": [
    "int PadelMatch::totalwins=0;\n",
    "int PadelMatch::totallost=0;"
   ]
  },
  {
   "cell_type": "code",
   "execution_count": 25,
   "metadata": {},
   "outputs": [],
   "source": [
    "PadelMatch match1(\"Huiganal\",4,,4);"
   ]
  },
  {
   "cell_type": "code",
   "execution_count": 24,
   "metadata": {},
   "outputs": [
    {
     "name": "stdout",
     "output_type": "stream",
     "text": [
      "You lost\n"
     ]
    }
   ],
   "source": [
    "match1.result()"
   ]
  },
  {
   "cell_type": "code",
   "execution_count": null,
   "metadata": {},
   "outputs": [],
   "source": []
  }
 ],
 "metadata": {
  "kernelspec": {
   "display_name": "ROOT C++",
   "language": "c++",
   "name": "root"
  },
  "language_info": {
   "codemirror_mode": "text/x-c++src",
   "file_extension": ".C",
   "mimetype": " text/x-c++src",
   "name": "c++"
  }
 },
 "nbformat": 4,
 "nbformat_minor": 4
}
