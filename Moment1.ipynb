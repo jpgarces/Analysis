{
 "cells": [
  {
   "cell_type": "markdown",
   "metadata": {},
   "source": [
    "## How to add Moment 0 contours? (to make rotation more evident, blue/red contours)"
   ]
  },
  {
   "cell_type": "markdown",
   "metadata": {},
   "source": [
    "### Import Packages"
   ]
  },
  {
   "cell_type": "code",
   "execution_count": 60,
   "metadata": {},
   "outputs": [],
   "source": [
    "from astropy.io import fits\n",
    "from astropy.coordinates import SkyCoord\n",
    "import aplpy\n",
    "from astropy import units as u  \n",
    "from spectral_cube import SpectralCube\n",
    "import matplotlib.pyplot as plt\n",
    "import numpy as np \n",
    "import matplotlib.pyplot as plt\n",
    "from astropy.io import fits \n",
    "from astropy import wcs\n",
    "from astropy import coordinates\n",
    "import os\n",
    "import sys\n",
    "import matplotlib.ticker as ticker\n",
    "from matplotlib import rc\n",
    "rc('text', usetex=False)"
   ]
  },
  {
   "cell_type": "markdown",
   "metadata": {},
   "source": [
    "### Files"
   ]
  },
  {
   "cell_type": "code",
   "execution_count": 61,
   "metadata": {},
   "outputs": [],
   "source": [
    "filename='/home/juan/Desktop/Research/Data2.0/Serpens/Serpens_concat_c18o_cube.fits'\n",
    "filename='/home/juan/Desktop/Research/Data2.0/Serpens/Serpens_Feather_c18o.fits'\n",
    "filename_mom1 = '/home/juan/Desktop/Research/Data2.0/moment_1_masked_New.fits' \n",
    "filename_cont='/home/juan/Desktop/Research/Data2.0/dustContinuum.fits'\n",
    "filenametxt='/home/juan/Desktop/Research/Data/sourcecoordinates.txt'"
   ]
  },
  {
   "cell_type": "markdown",
   "metadata": {},
   "source": [
    "### Source Info."
   ]
  },
  {
   "cell_type": "code",
   "execution_count": 62,
   "metadata": {},
   "outputs": [
    {
     "data": {
      "text/plain": [
       "<Figure size 1080x1080 with 0 Axes>"
      ]
     },
     "metadata": {},
     "output_type": "display_data"
    }
   ],
   "source": [
    "source=45\n",
    "source2=46\n",
    "ra,dec = np.loadtxt(filenametxt,unpack=True,usecols=(0,1),dtype='S')\n",
    "#coord=SkyCoord(ra,dec,frame='icrs',unit=(u.hourangle,u.deg)) \n",
    "fig = plt.figure('Source '+str(source)+' and '+str(source2),figsize=(15,15))\n",
    "#c = SkyCoord(coord[source-1].ra,coord[source-1].dec, frame='icrs',unit=(u.hourangle,u.deg))\n",
    "Ra=[]\n",
    "Dec=[]\n",
    "for i in range(len(ra)):\n",
    "    Ra.append(ra[i].decode(\"utf-8\"))\n",
    "for i in range(len(dec)):\n",
    "    Dec.append(dec[i].decode(\"utf-8\"))\n",
    "coord=SkyCoord(Ra,Dec,frame='icrs',unit=(u.hourangle,u.deg)) \n",
    "c = SkyCoord(coord[source-1].ra,coord[source-1].dec, frame='icrs',unit=(u.hourangle,u.deg))\n",
    "RAcoord=c.ra\n",
    "Deccoord=c.dec\n",
    "vc=8.0*u.km/u.s "
   ]
  },
  {
   "cell_type": "markdown",
   "metadata": {},
   "source": [
    "### Cubes"
   ]
  },
  {
   "cell_type": "code",
   "execution_count": 63,
   "metadata": {},
   "outputs": [],
   "source": [
    "cube1=SpectralCube.read(filename)\n",
    "cubec=SpectralCube.read(filename_cont)\n",
    "moment=fits.open(filename_mom1)\n",
    "moment_1=moment[0].data"
   ]
  },
  {
   "cell_type": "markdown",
   "metadata": {},
   "source": [
    "### Moment 1 Map"
   ]
  },
  {
   "cell_type": "code",
   "execution_count": 64,
   "metadata": {},
   "outputs": [
    {
     "name": "stderr",
     "output_type": "stream",
     "text": [
      "WARNING: Cannot determine equinox. Assuming J2000. [aplpy.wcs_util]\n",
      "WARNING: Cannot determine equinox. Assuming J2000. [aplpy.wcs_util]\n"
     ]
    }
   ],
   "source": [
    "f2 = aplpy.FITSFigure(filename_mom1,figure=fig)\n",
    "mom1_vmin = ((vc.value-0.8)*1000.)\n",
    "mom1_vmax = ((vc.value+0.8)*1000.)\n",
    "f2.show_colorscale(vmin=mom1_vmin,vmax=mom1_vmax,cmap='jet')"
   ]
  },
  {
   "cell_type": "markdown",
   "metadata": {},
   "source": [
    "### Recenter plot"
   ]
  },
  {
   "cell_type": "code",
   "execution_count": 65,
   "metadata": {},
   "outputs": [],
   "source": [
    "## you can recenter the plot to your chosen coordinate\n",
    "xx=np.abs(cube1.header['NAXIS1']*cube1.header['cdelt1'])#np.abs is absolute value. 'Naxis1'*'cdelt1\" will give length of x axis in \n",
    "yy=np.abs(cube1.header['NAXIS2']*cube1.header['cdelt2'])\n",
    "f2.recenter(RAcoord+0.0*u.arcsec,Deccoord+0.0*u.arcsec,width=xx*0.03,height=yy*0.03)"
   ]
  },
  {
   "cell_type": "markdown",
   "metadata": {},
   "source": [
    "### Show marker on each source"
   ]
  },
  {
   "cell_type": "code",
   "execution_count": 66,
   "metadata": {},
   "outputs": [],
   "source": [
    "filenametxt='/home/juan/Desktop/Research/Data/sourcecoordinates.txt'\n",
    "ra,dec = np.loadtxt(filenametxt,unpack=True,usecols=(0,1),dtype='S')\n",
    "coord=SkyCoord(ra,dec,frame='icrs',unit=(u.hourangle,u.deg))\n",
    "for i in range(len(ra)):\n",
    "    f2.show_markers(coord[i].ra.value,coord[i].dec.value,edgecolor='red',marker=\"o\",linewidths=2,s=30)"
   ]
  },
  {
   "cell_type": "markdown",
   "metadata": {},
   "source": [
    "### Show the colorbar"
   ]
  },
  {
   "cell_type": "code",
   "execution_count": 67,
   "metadata": {},
   "outputs": [],
   "source": [
    "f2.add_colorbar()"
   ]
  },
  {
   "cell_type": "markdown",
   "metadata": {},
   "source": [
    "### Hack for colorbar labels in km/s"
   ]
  },
  {
   "cell_type": "code",
   "execution_count": 68,
   "metadata": {},
   "outputs": [],
   "source": [
    "cb_inter=200.*u.m/u.s\n",
    "labels=(np.arange(mom1_vmin,mom1_vmax+cb_inter.value,cb_inter.value))*(u.m/u.s)\n",
    "f2.colorbar.set_labels(False)\n",
    "#f2.colorbar.set_ticks(labels.value)\n",
    "f2.colorbar.set_width(0.1)\n",
    "f2.colorbar.set_pad(-0.1)\n",
    "f2.colorbar.set_axis_label_pad(30)\n",
    "f2.colorbar.set_axis_label_text('km s$^{-1}$')\n",
    "f2.colorbar.set_axis_label_font(size='14')\n",
    "f2.hide_yaxis_label()\n",
    "f2.hide_ytick_labels()\n",
    "xlim_mom=f2._ax1.get_xlim()\n",
    "ylim_mom=f2._ax1.get_ylim()\n",
    "hack_labels=np.arange(0,1.01,1./(labels.size-1))\n",
    "for ll in range(labels.size): \n",
    "\tlabelfloat = round(labels[ll].value/1000.,2)-vc.value\n",
    "\tf2.add_label(1.05,hack_labels[ll],str(labelfloat),relative=True,color='black',size='14')"
   ]
  },
  {
   "cell_type": "markdown",
   "metadata": {},
   "source": [
    "### Add the beamsize "
   ]
  },
  {
   "cell_type": "code",
   "execution_count": 69,
   "metadata": {},
   "outputs": [],
   "source": [
    "bmaj=1.043*u.arcsec.to(u.deg)\n",
    "bmin=0.7046*u.arcsec.to(u.deg)\n",
    "bpa=76.299\n",
    "f2.add_beam(major=bmaj,minor=bmin,angle=bpa,pad=0.2)"
   ]
  },
  {
   "cell_type": "markdown",
   "metadata": {},
   "source": [
    "### Save figure"
   ]
  },
  {
   "cell_type": "code",
   "execution_count": 70,
   "metadata": {},
   "outputs": [],
   "source": [
    "#f2.save('Source '+str(source)+' to'+str(source2)+'.png')"
   ]
  },
  {
   "cell_type": "code",
   "execution_count": 71,
   "metadata": {},
   "outputs": [
    {
     "data": {
      "image/png": "[encoded data removed]",
      "text/plain": [
       "<Figure size 1080x1080 with 2 Axes>"
      ]
     },
     "execution_count": 71,
     "metadata": {},
     "output_type": "execute_result"
    }
   ],
   "source": [
    "fig"
   ]
  }
 ],
 "metadata": {
  "kernelspec": {
   "display_name": "Python 2",
   "language": "python",
   "name": "python2"
  },
  "language_info": {
   "codemirror_mode": {
    "name": "ipython",
    "version": 2
   },
   "file_extension": ".py",
   "mimetype": "text/x-python",
   "name": "python",
   "nbconvert_exporter": "python",
   "pygments_lexer": "ipython2",
   "version": "2.7.18"
  }
 },
 "nbformat": 4,
 "nbformat_minor": 2
}
