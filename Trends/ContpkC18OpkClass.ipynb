{
 "cells": [
  {
   "cell_type": "markdown",
   "metadata": {},
   "source": [
    "# Continuum Peak Intensity vs $C^{18}O$ Peah Intensity vs Class"
   ]
  },
  {
   "cell_type": "markdown",
   "metadata": {},
   "source": [
    "### Import packages"
   ]
  },
  {
   "cell_type": "code",
   "execution_count": 1,
   "metadata": {},
   "outputs": [],
   "source": [
    "import matplotlib.pyplot as plt\n",
    "import numpy as np\n",
    "#%matplotlib inline"
   ]
  },
  {
   "cell_type": "markdown",
   "metadata": {},
   "source": [
    "### Import file"
   ]
  },
  {
   "cell_type": "code",
   "execution_count": 2,
   "metadata": {},
   "outputs": [],
   "source": [
    "filenametxt='/home/jp/Desktop/Research/jupyter/Trends/sheet2.txt'\n",
    "filenametxt2='/home/jp/Desktop/Research/jupyter/Trends/peakint.txt'"
   ]
  },
  {
   "cell_type": "markdown",
   "metadata": {},
   "source": [
    "### Load data"
   ]
  },
  {
   "cell_type": "code",
   "execution_count": 3,
   "metadata": {},
   "outputs": [],
   "source": [
    "contpkint,sclass,pkintC18O= np.loadtxt(filenametxt,unpack=True,usecols=(3,4,5),dtype='S')"
   ]
  },
  {
   "cell_type": "code",
   "execution_count": 4,
   "metadata": {},
   "outputs": [],
   "source": [
    "lcontpkint=[]\n",
    "lpkintC18O=[]\n",
    "Sclass=[]\n",
    "for i in range(len(pkintC18O)):\n",
    "\tlpkintC18O.append(float(pkintC18O[i].decode(\"utf-8\")))\n",
    "\tlcontpkint.append(float(contpkint[i].decode(\"utf-8\")))\n",
    "\tSclass.append(sclass[i].decode(\"utf-8\"))"
   ]
  },
  {
   "cell_type": "markdown",
   "metadata": {},
   "source": [
    "### Create arrays"
   ]
  },
  {
   "cell_type": "code",
   "execution_count": 5,
   "metadata": {},
   "outputs": [],
   "source": [
    "lcontpkintN=[]\n",
    "lcontpkint0_I=[]\n",
    "lcontpkintF=[]\n",
    "lcontpkintII=[]\n",
    "lpkintC18ON=[]\n",
    "lpkintC18O0_I=[]\n",
    "lpkintC18OF=[]\n",
    "lpkintC18OII=[]\n",
    "for i in range(len(pkintC18O)):\n",
    "\tif Sclass[i]=='N' and float(contpkint[i])!=0.0:\n",
    "\t\tlpkintC18ON.append(float(pkintC18O[i]))\n",
    "\t\tlcontpkintN.append(float(contpkint[i]))\n",
    "\tif Sclass[i]=='F' and float(contpkint[i])!=0.0:\n",
    "\t\tlpkintC18OF.append(float(pkintC18O[i]))\n",
    "\t\tlcontpkintF.append(float(contpkint[i]))\n",
    "\tif Sclass[i]=='0/I' and float(contpkint[i])!=0.0:\n",
    "\t\tlpkintC18O0_I.append(float(pkintC18O[i]))\n",
    "\t\tlcontpkint0_I.append(float(contpkint[i]))\n",
    "\tif Sclass[i]=='II' and float(contpkint[i])!=0.0:\n",
    "\t\tlpkintC18OII.append(float(pkintC18O[i]))\n",
    "\t\tlcontpkintII.append(float(contpkint[i]))"
   ]
  },
  {
   "cell_type": "markdown",
   "metadata": {},
   "source": [
    "### Create figure"
   ]
  },
  {
   "cell_type": "code",
   "execution_count": 6,
   "metadata": {},
   "outputs": [
    {
     "data": {
      "text/plain": [
       "<Figure size 1440x1440 with 0 Axes>"
      ]
     },
     "metadata": {},
     "output_type": "display_data"
    }
   ],
   "source": [
    "figname='Continuum Peak Intensity vs. C18O Peak Intensity'\n",
    "fig=plt.figure('Continuum Peak Intensity vs. C18O Peak Intensity vs. Class',figsize=(20,20))"
   ]
  },
  {
   "cell_type": "markdown",
   "metadata": {},
   "source": [
    "### Plot"
   ]
  },
  {
   "cell_type": "code",
   "execution_count": 7,
   "metadata": {},
   "outputs": [
    {
     "data": {
      "text/plain": [
       "<matplotlib.legend.Legend at 0x7fb8938d5e80>"
      ]
     },
     "execution_count": 7,
     "metadata": {},
     "output_type": "execute_result"
    },
    {
     "data": {
      "image/png": "[encoded data removed]",
      "text/plain": [
       "<Figure size 432x288 with 1 Axes>"
      ]
     },
     "metadata": {
      "needs_background": "light"
     },
     "output_type": "display_data"
    }
   ],
   "source": [
    "plt.title('Continuum Mass vs. C18O Peak Intensity')\n",
    "plt.xlabel('Intensity [mJy/bm]')\n",
    "plt.ylabel('Intensity [Jy/bm]')\n",
    "plt.rc('axes', titlesize=18)\n",
    "plt.rc('xtick', labelsize=13) \n",
    "plt.rc('ytick', labelsize=13) \n",
    "plt.xticks(np.arange(min(lcontpkint),max(lcontpkint),10.))\n",
    "plt.yticks(np.arange(min(lpkintC18O),max(lpkintC18O),0.05))\n",
    "plt.scatter(lcontpkintF,lpkintC18OF,color='blue',label='F',s=2)\n",
    "plt.scatter(lcontpkintN,lpkintC18ON,color='gray',label='None',s=2)\n",
    "plt.scatter(lcontpkint0_I,lpkintC18O0_I,color='red',label='Class 0-I',s=2)\n",
    "plt.scatter(lcontpkintII,lpkintC18OII,color='yellow',label='Class II',s=2)\n",
    "plt.legend()\n",
    "#fig.savefig(figname+'.png')\n",
    "#plt.show()\n",
    "#plt.close(fig)"
   ]
  },
  {
   "cell_type": "code",
   "execution_count": 8,
   "metadata": {},
   "outputs": [],
   "source": [
    "#plt.show()"
   ]
  }
 ],
 "metadata": {
  "kernelspec": {
   "display_name": "Python 3",
   "language": "python",
   "name": "python3"
  },
  "language_info": {
   "codemirror_mode": {
    "name": "ipython",
    "version": 3
   },
   "file_extension": ".py",
   "mimetype": "text/x-python",
   "name": "python",
   "nbconvert_exporter": "python",
   "pygments_lexer": "ipython3",
   "version": "3.8.3"
  }
 },
 "nbformat": 4,
 "nbformat_minor": 4
}
