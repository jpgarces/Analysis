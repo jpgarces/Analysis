{
 "cells": [
  {
   "cell_type": "markdown",
   "metadata": {},
   "source": [
    "### Get $C^{18}O$ peak intensities"
   ]
  },
  {
   "cell_type": "markdown",
   "metadata": {},
   "source": [
    "### Import packages"
   ]
  },
  {
   "cell_type": "code",
   "execution_count": 1,
   "metadata": {},
   "outputs": [],
   "source": [
    "from astropy.coordinates import SkyCoord\n",
    "import numpy as np\n",
    "from astropy import wcs\n",
    "from astropy.io import fits\n",
    "import sys\n",
    "from astropy import units as u  "
   ]
  },
  {
   "cell_type": "markdown",
   "metadata": {},
   "source": [
    "### Import files"
   ]
  },
  {
   "cell_type": "code",
   "execution_count": 2,
   "metadata": {},
   "outputs": [],
   "source": [
    "filename_gas_feather=fits.open('/home/jp/Desktop/Research/Data2.0/Serpens/Serpens_Feather_c18o.fits')"
   ]
  },
  {
   "cell_type": "code",
   "execution_count": 3,
   "metadata": {},
   "outputs": [],
   "source": [
    "filenametxt='/home/jp/Desktop/Research/Data/sourcecoordinates.txt'"
   ]
  },
  {
   "cell_type": "markdown",
   "metadata": {},
   "source": [
    "### Source coordinates"
   ]
  },
  {
   "cell_type": "code",
   "execution_count": 4,
   "metadata": {},
   "outputs": [],
   "source": [
    "ra,dec = np.loadtxt(filenametxt,unpack=True,usecols=(0,1),dtype='S')"
   ]
  },
  {
   "cell_type": "code",
   "execution_count": 5,
   "metadata": {},
   "outputs": [],
   "source": [
    "Ra=[]\n",
    "Dec=[]\n",
    "for i in range(len(ra)):\n",
    "    Ra.append(ra[i].decode(\"utf-8\"))\n",
    "for i in range(len(dec)): \n",
    "    Dec.append(dec[i].decode(\"utf-8\"))"
   ]
  },
  {
   "cell_type": "code",
   "execution_count": 6,
   "metadata": {},
   "outputs": [],
   "source": [
    "coord=SkyCoord(Ra,Dec,frame='icrs',unit=(u.hourangle,u.deg))"
   ]
  },
  {
   "cell_type": "markdown",
   "metadata": {},
   "source": [
    "### Pixel coordinates"
   ]
  },
  {
   "cell_type": "code",
   "execution_count": 7,
   "metadata": {},
   "outputs": [],
   "source": [
    "filename='/home/jp/Desktop/Research/Data2.0/moment_0_New.fits'\n",
    "Pixlist=[]\n",
    "hdulist = fits.open(filename)\n",
    "w=wcs.WCS(hdulist[0].header)\n",
    "for i in range(len(coord)):\n",
    "\tarr=np.array([[coord.ra[i].value,coord.dec[i].value]])\n",
    "\txpix,ypix=w.all_world2pix(arr,0)[0]\n",
    "\tPixlist.append((xpix,ypix))"
   ]
  },
  {
   "cell_type": "markdown",
   "metadata": {},
   "source": [
    "### Create intensity data array"
   ]
  },
  {
   "cell_type": "code",
   "execution_count": 8,
   "metadata": {},
   "outputs": [],
   "source": [
    "hdufeather=filename_gas_feather"
   ]
  },
  {
   "cell_type": "markdown",
   "metadata": {},
   "source": [
    "### Obtain peak intensities"
   ]
  },
  {
   "cell_type": "code",
   "execution_count": 11,
   "metadata": {},
   "outputs": [],
   "source": [
    "peakintl=[]\n",
    "for i in range(67):\n",
    "    xpix=int(round(Pixlist[i][0]))\n",
    "    ypix=int(round(Pixlist[i][1]))\n",
    "    intdata=np.mean(hdufeather[0].data[:,ypix-2:ypix+2,xpix-2:xpix+2],axis=(1,2))\n",
    "    peakintl.append(np.max(intdata))"
   ]
  },
  {
   "cell_type": "code",
   "execution_count": 19,
   "metadata": {
    "scrolled": true
   },
   "outputs": [
    {
     "data": {
      "text/plain": [
       "[0.0736458,\n",
       " 0.09692015,\n",
       " 0.066911146,\n",
       " 0.067336775,\n",
       " 0.10018932,\n",
       " 0.17076218,\n",
       " 0.09605293,\n",
       " 0.12787604,\n",
       " 0.1965203,\n",
       " 0.21218903,\n",
       " 0.16937537,\n",
       " 0.21521315,\n",
       " 0.20776561,\n",
       " 0.17064618,\n",
       " 0.2321575,\n",
       " 0.354953,\n",
       " 0.2347745,\n",
       " 0.28300238,\n",
       " 0.18388787,\n",
       " 0.19841506,\n",
       " 0.18438475,\n",
       " 0.17575029,\n",
       " 0.22667716,\n",
       " 0.28112426,\n",
       " 0.12991212,\n",
       " 0.15211943,\n",
       " 0.27744216,\n",
       " 0.15703604,\n",
       " 0.5263127,\n",
       " 0.15822496,\n",
       " 0.2826863,\n",
       " 0.56968915,\n",
       " 0.50291437,\n",
       " 0.3377955,\n",
       " 0.3582266,\n",
       " 0.26304823,\n",
       " 0.41697145,\n",
       " 0.42593387,\n",
       " 0.3284346,\n",
       " 0.27845734,\n",
       " 0.41313356,\n",
       " 0.20647651,\n",
       " 0.17791596,\n",
       " 0.2643487,\n",
       " 0.5330952,\n",
       " 0.47872734,\n",
       " 0.27168572,\n",
       " 0.2427826,\n",
       " 0.24018797,\n",
       " 0.2572701,\n",
       " 0.12778085,\n",
       " 0.13965742,\n",
       " 0.14509085,\n",
       " 0.11747068,\n",
       " 0.15979184,\n",
       " 0.21162625,\n",
       " 0.14877856,\n",
       " 0.11652374,\n",
       " 0.101832494,\n",
       " 0.12738758,\n",
       " 0.15563202,\n",
       " 0.07597304,\n",
       " 0.10981748,\n",
       " 0.10795061,\n",
       " 0.082400784,\n",
       " 0.08325834,\n",
       " 0.0495406]"
      ]
     },
     "execution_count": 19,
     "metadata": {},
     "output_type": "execute_result"
    }
   ],
   "source": [
    "peakintl"
   ]
  },
  {
   "cell_type": "code",
   "execution_count": 16,
   "metadata": {},
   "outputs": [],
   "source": [
    "peaktxt=open(\"peakinttxt\",\"w\")"
   ]
  },
  {
   "cell_type": "code",
   "execution_count": 18,
   "metadata": {},
   "outputs": [],
   "source": [
    "for i in range(len(peakintl)):\n",
    "    peaktxt.write(str(peakintl[i])+\"\\n\")"
   ]
  },
  {
   "cell_type": "code",
   "execution_count": 20,
   "metadata": {},
   "outputs": [],
   "source": [
    "peaktxt.close()"
   ]
  }
 ],
 "metadata": {
  "kernelspec": {
   "display_name": "Python 3",
   "language": "python",
   "name": "python3"
  },
  "language_info": {
   "codemirror_mode": {
    "name": "ipython",
    "version": 3
   },
   "file_extension": ".py",
   "mimetype": "text/x-python",
   "name": "python",
   "nbconvert_exporter": "python",
   "pygments_lexer": "ipython3",
   "version": "3.8.3"
  }
 },
 "nbformat": 4,
 "nbformat_minor": 4
}
