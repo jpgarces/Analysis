{
 "cells": [
  {
   "cell_type": "markdown",
   "metadata": {},
   "source": [
    "### Import pachages"
   ]
  },
  {
   "cell_type": "code",
   "execution_count": 1,
   "metadata": {},
   "outputs": [],
   "source": [
    "import matplotlib.pyplot as plt\n",
    "import numpy as np\n",
    "from astropy import units as u  \n",
    "from astropy.coordinates import SkyCoord"
   ]
  },
  {
   "cell_type": "markdown",
   "metadata": {},
   "source": [
    "### Import Files"
   ]
  },
  {
   "cell_type": "code",
   "execution_count": null,
   "metadata": {},
   "outputs": [],
   "source": [
    "filenametxt='/home/juan/Desktop/Research/Data2.0/Sources+Intgas+class.txt'\n",
    "filenametxt='/home/juan/Desktop/Research/Data/sourcecoordinates.txt'"
   ]
  },
  {
   "cell_type": "markdown",
   "metadata": {},
   "source": [
    "### Source Info."
   ]
  },
  {
   "cell_type": "code",
   "execution_count": null,
   "metadata": {},
   "outputs": [],
   "source": [
    "pkintC18O,sclass= np.loadtxt(filenametxt,unpack=True,usecols=(3,4),dtype='S')\n",
    "ra,dec = np.loadtxt(filenametxt,unpack=True,usecols=(0,1),dtype='S')\n",
    "coord=SkyCoord(ra,dec,frame='icrs',unit=(u.hourangle,u.deg))"
   ]
  },
  {
   "cell_type": "markdown",
   "metadata": {},
   "source": [
    "### C18O Peak Intensity"
   ]
  },
  {
   "cell_type": "code",
   "execution_count": null,
   "metadata": {},
   "outputs": [],
   "source": [
    "lpkintC18O=[]\n",
    "for i in range(len(pkintC18O)):\n",
    "\tlpkintC18O.append(float(pkintC18O[i]))"
   ]
  },
  {
   "cell_type": "markdown",
   "metadata": {},
   "source": [
    "### Source Distance"
   ]
  },
  {
   "cell_type": "code",
   "execution_count": null,
   "metadata": {},
   "outputs": [],
   "source": [
    "c1=SkyCoord(ra=277.5148313*u.degree, dec=-2.048732216*u.degree, distance=436*u.pc, frame='icrs')\n",
    "ldist=[]\n",
    "for i in range(len(coord)):\n",
    "\tc2 = SkyCoord(ra=coord[i].ra, dec=coord[i].dec, distance=436*u.pc, frame='icrs')\n",
    "\tdist=c1.separation_3d(c2)\n",
    "\tldist.append(dist.value)"
   ]
  },
  {
   "cell_type": "markdown",
   "metadata": {},
   "source": [
    "### Source Class"
   ]
  },
  {
   "cell_type": "code",
   "execution_count": null,
   "metadata": {},
   "outputs": [],
   "source": [
    "ldistN=[]\n",
    "ldist0_I=[]\n",
    "ldistF=[]\n",
    "lpkintC18ON=[]\n",
    "lpkintC18O0_I=[]\n",
    "lpkintC18OF=[]\n",
    "for i in range(len(pkintC18O)):\n",
    "\tif sclass[i]=='N':\n",
    "\t\tlpkintC18ON.append(float(pkintC18O[i]))\n",
    "\t\tldistN.append(float(ldist[i]))\n",
    "\telif sclass[i]=='F':\n",
    "\t\tlpkintC18OF.append(float(pkintC18O[i]))\n",
    "\t\tldistF.append(float(ldist[i]))\n",
    "\telse:\n",
    "\t\tlpkintC18O0_I.append(float(pkintC18O[i]))\n",
    "\t\tldist0_I.append(float(ldist[i]))"
   ]
  },
  {
   "cell_type": "markdown",
   "metadata": {},
   "source": [
    "### Plot"
   ]
  },
  {
   "cell_type": "code",
   "execution_count": 2,
   "metadata": {},
   "outputs": [
    {
     "ename": "NameError",
     "evalue": "name 'ldist0_I' is not defined",
     "output_type": "error",
     "traceback": [
      "\u001b[0;31m---------------------------------------------------------------------------\u001b[0m",
      "\u001b[0;31mNameError\u001b[0m                                 Traceback (most recent call last)",
      "\u001b[0;32m<ipython-input-2-d0f655bf3b5b>\u001b[0m in \u001b[0;36m<module>\u001b[0;34m()\u001b[0m\n\u001b[1;32m      7\u001b[0m \u001b[0mplt\u001b[0m\u001b[0;34m.\u001b[0m\u001b[0mrc\u001b[0m\u001b[0;34m(\u001b[0m\u001b[0;34m'xtick'\u001b[0m\u001b[0;34m,\u001b[0m \u001b[0mlabelsize\u001b[0m\u001b[0;34m=\u001b[0m\u001b[0;36m11\u001b[0m\u001b[0;34m)\u001b[0m\u001b[0;34m\u001b[0m\u001b[0m\n\u001b[1;32m      8\u001b[0m \u001b[0mplt\u001b[0m\u001b[0;34m.\u001b[0m\u001b[0mrc\u001b[0m\u001b[0;34m(\u001b[0m\u001b[0;34m'ytick'\u001b[0m\u001b[0;34m,\u001b[0m \u001b[0mlabelsize\u001b[0m\u001b[0;34m=\u001b[0m\u001b[0;36m11\u001b[0m\u001b[0;34m)\u001b[0m\u001b[0;34m\u001b[0m\u001b[0m\n\u001b[0;32m----> 9\u001b[0;31m \u001b[0mplt\u001b[0m\u001b[0;34m.\u001b[0m\u001b[0mxticks\u001b[0m\u001b[0;34m(\u001b[0m\u001b[0mnp\u001b[0m\u001b[0;34m.\u001b[0m\u001b[0marange\u001b[0m\u001b[0;34m(\u001b[0m\u001b[0mmin\u001b[0m\u001b[0;34m(\u001b[0m\u001b[0mldist0_I\u001b[0m\u001b[0;34m)\u001b[0m\u001b[0;34m,\u001b[0m\u001b[0mmax\u001b[0m\u001b[0;34m(\u001b[0m\u001b[0mldist0_I\u001b[0m\u001b[0;34m)\u001b[0m\u001b[0;34m,\u001b[0m\u001b[0;36m0.03\u001b[0m\u001b[0;34m)\u001b[0m\u001b[0;34m)\u001b[0m\u001b[0;34m\u001b[0m\u001b[0m\n\u001b[0m\u001b[1;32m     10\u001b[0m \u001b[0mplt\u001b[0m\u001b[0;34m.\u001b[0m\u001b[0myticks\u001b[0m\u001b[0;34m(\u001b[0m\u001b[0mnp\u001b[0m\u001b[0;34m.\u001b[0m\u001b[0marange\u001b[0m\u001b[0;34m(\u001b[0m\u001b[0mmin\u001b[0m\u001b[0;34m(\u001b[0m\u001b[0mlpkintC18O0_I\u001b[0m\u001b[0;34m)\u001b[0m\u001b[0;34m-\u001b[0m\u001b[0;36m0.04\u001b[0m\u001b[0;34m,\u001b[0m\u001b[0mmax\u001b[0m\u001b[0;34m(\u001b[0m\u001b[0mlpkintC18O0_I\u001b[0m\u001b[0;34m)\u001b[0m\u001b[0;34m+\u001b[0m\u001b[0;36m0.2\u001b[0m\u001b[0;34m,\u001b[0m\u001b[0;36m0.05\u001b[0m\u001b[0;34m)\u001b[0m\u001b[0;34m)\u001b[0m\u001b[0;34m\u001b[0m\u001b[0m\n\u001b[1;32m     11\u001b[0m \u001b[0mplt\u001b[0m\u001b[0;34m.\u001b[0m\u001b[0mscatter\u001b[0m\u001b[0;34m(\u001b[0m\u001b[0mldistF\u001b[0m\u001b[0;34m,\u001b[0m\u001b[0mlpkintC18OF\u001b[0m\u001b[0;34m,\u001b[0m\u001b[0mcolor\u001b[0m\u001b[0;34m=\u001b[0m\u001b[0;34m'blue'\u001b[0m\u001b[0;34m,\u001b[0m\u001b[0mlabel\u001b[0m\u001b[0;34m=\u001b[0m\u001b[0;34m'F'\u001b[0m\u001b[0;34m)\u001b[0m\u001b[0;34m\u001b[0m\u001b[0m\n",
      "\u001b[0;31mNameError\u001b[0m: name 'ldist0_I' is not defined"
     ]
    },
    {
     "data": {
      "image/png": "[encoded data removed]",
      "text/plain": [
       "<Figure size 1296x864 with 1 Axes>"
      ]
     },
     "metadata": {
      "needs_background": "light"
     },
     "output_type": "display_data"
    }
   ],
   "source": [
    "figname='67 Sources distance vs. C18O Peak Intensity, Class'\n",
    "fig=plt.figure('Source distance vs. C18O Peak Intensity, Class',figsize=(18,12))\n",
    "plt.title('Source distance vs. C18O Peak Intensity, Class')\n",
    "plt.xlabel('Distance [parsec]')\n",
    "plt.ylabel('Intensity [Jy/bm]')\n",
    "plt.rc('axes', titlesize=17,labelsize=15)\n",
    "plt.rc('xtick', labelsize=11) \n",
    "plt.rc('ytick', labelsize=11) \n",
    "plt.xticks(np.arange(min(ldist0_I),max(ldist0_I),0.03))\n",
    "plt.yticks(np.arange(min(lpkintC18O0_I)-0.04,max(lpkintC18O0_I)+0.2,0.05))\n",
    "plt.scatter(ldistF,lpkintC18OF,color='blue',label='F')\n",
    "plt.scatter(ldistN,lpkintC18ON,color='gray',label='None')\n",
    "plt.scatter(ldist0_I,lpkintC18O0_I,color='red',label='Class 0-I')\n",
    "plt.legend()\n",
    "#fig.savefig(figname+'.png')\n",
    "#plt.show()\n",
    "#plt.close(fig)"
   ]
  },
  {
   "cell_type": "code",
   "execution_count": null,
   "metadata": {},
   "outputs": [],
   "source": [
    "fig"
   ]
  }
 ],
 "metadata": {
  "kernelspec": {
   "display_name": "Python 2",
   "language": "python",
   "name": "python2"
  },
  "language_info": {
   "codemirror_mode": {
    "name": "ipython",
    "version": 2
   },
   "file_extension": ".py",
   "mimetype": "text/x-python",
   "name": "python",
   "nbconvert_exporter": "python",
   "pygments_lexer": "ipython2",
   "version": "2.7.18"
  }
 },
 "nbformat": 4,
 "nbformat_minor": 2
}
