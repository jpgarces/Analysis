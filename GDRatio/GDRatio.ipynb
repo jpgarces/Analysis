{
 "cells": [
  {
   "cell_type": "markdown",
   "metadata": {},
   "source": [
    "### Import packages"
   ]
  },
  {
   "cell_type": "code",
   "execution_count": 47,
   "metadata": {},
   "outputs": [],
   "source": [
    "from astropy.coordinates import SkyCoord\n",
    "import numpy as np\n",
    "from astropy import wcs\n",
    "from astropy.io import fits\n",
    "import matplotlib.pyplot as plt\n",
    "from astropy import units as u  \n",
    "from astropy.modeling import models, fitting"
   ]
  },
  {
   "cell_type": "markdown",
   "metadata": {},
   "source": [
    "### Import major and minor axis "
   ]
  },
  {
   "cell_type": "code",
   "execution_count": 48,
   "metadata": {},
   "outputs": [],
   "source": [
    "sources=[16,29,33,38,45]\n",
    "lmajax=[]\n",
    "lminax=[]\n",
    "for source in sources:\n",
    "    file2dfit='/home/juan/Desktop/Research/Data2.0/2DFit/'+str(source)+'/2DGssfit'+str(source)+'Log.txt'\n",
    "    file1=open(file2dfit,'r')\n",
    "    i=1\n",
    "    for line in file1:\n",
    "        if i==27:\n",
    "            line1=line\n",
    "        if i==28:\n",
    "            line2=line\n",
    "        i+=1\n",
    "    file1.close()\n",
    "    for j in range(len(line1)):\n",
    "        if line1[j]==':':\n",
    "            k=j+1\n",
    "            majorax=''\n",
    "            while line1[k]!='+':\n",
    "                majorax+=line1[k]\n",
    "                k+=1\n",
    "    for j in range(len(line2)):\n",
    "        if line2[j]==':':\n",
    "            k=j+1\n",
    "            minorax=''\n",
    "            while line2[k]!='+':\n",
    "                minorax+=line2[k]\n",
    "                k+=1\n",
    "    lmajax.append(float(majorax.strip()))\n",
    "    lminax.append(float(minorax.strip()))"
   ]
  },
  {
   "cell_type": "markdown",
   "metadata": {},
   "source": [
    "### Calculate \"r\" by averaging major and minor axes and dividing by two"
   ]
  },
  {
   "cell_type": "code",
   "execution_count": 49,
   "metadata": {},
   "outputs": [],
   "source": [
    "lradii=[]\n",
    "for i in range(len(lmajax)):\n",
    "    avg=(lmajax[i]+lminax[i])/2\n",
    "    lradii.append(avg/2)"
   ]
  },
  {
   "cell_type": "markdown",
   "metadata": {},
   "source": [
    "### Convert distance to meters (?) using small angle approximation"
   ]
  },
  {
   "cell_type": "code",
   "execution_count": 50,
   "metadata": {},
   "outputs": [],
   "source": [
    "lrad=[]\n",
    "for i in range(len(lradii)):\n",
    "    lrad.append((lradii[i]*436*3.085*10**16)/206265.0)"
   ]
  },
  {
   "cell_type": "markdown",
   "metadata": {},
   "source": [
    "## Obtain velocity range from gaussian fitting (3-sigma or 50% (?))"
   ]
  },
  {
   "cell_type": "markdown",
   "metadata": {},
   "source": [
    "### Obtain source spectra"
   ]
  },
  {
   "cell_type": "code",
   "execution_count": 51,
   "metadata": {},
   "outputs": [],
   "source": [
    "filename_gas=fits.open('/home/juan/Desktop/Research/Data2.0/Serpens/Serpens_Feather_c18o.fits')"
   ]
  },
  {
   "cell_type": "markdown",
   "metadata": {},
   "source": [
    "### 3-sigma line"
   ]
  },
  {
   "cell_type": "code",
   "execution_count": 52,
   "metadata": {},
   "outputs": [],
   "source": [
    "mom0_rms=np.mean(filename_gas[0].data[:,689:719,939:977].std())\n",
    "levs_3=3*mom0_rms"
   ]
  },
  {
   "cell_type": "markdown",
   "metadata": {},
   "source": [
    "### Source coordinates"
   ]
  },
  {
   "cell_type": "code",
   "execution_count": 53,
   "metadata": {},
   "outputs": [],
   "source": [
    "filenametxt='/home/juan/Desktop/Research/Data/sourcecoordinates.txt'\n",
    "ra,dec = np.loadtxt(filenametxt,unpack=True,usecols=(0,1),dtype='S')\n",
    "coord=SkyCoord(ra,dec,frame='icrs',unit=(u.hourangle,u.deg))"
   ]
  },
  {
   "cell_type": "markdown",
   "metadata": {},
   "source": [
    "### Convert degrees to pixels"
   ]
  },
  {
   "cell_type": "code",
   "execution_count": 54,
   "metadata": {},
   "outputs": [],
   "source": [
    "filename='/home/juan/Desktop/Research/Data2.0/moment_0_New_feather.fits'\n",
    "Pixlist=[]\n",
    "hdulist = fits.open(filename)\n",
    "w=wcs.WCS(hdulist[0].header)\n",
    "for i in range(len(coord)):\n",
    "\tarr=np.array([[coord.ra[i].value,coord.dec[i].value]])\n",
    "\txpix,ypix=w.all_world2pix(arr,0)[0]\n",
    "\tPixlist.append((xpix,ypix))"
   ]
  },
  {
   "cell_type": "markdown",
   "metadata": {},
   "source": [
    "### Previous info."
   ]
  },
  {
   "cell_type": "code",
   "execution_count": 55,
   "metadata": {},
   "outputs": [],
   "source": [
    "lsource=[16,29,33,38,45]\n",
    "lmean_guess=[7.0,8.0,7.5,7.0,7.5]\n",
    "chan=72"
   ]
  },
  {
   "cell_type": "markdown",
   "metadata": {},
   "source": [
    "### Previous info. setup"
   ]
  },
  {
   "cell_type": "code",
   "execution_count": 56,
   "metadata": {},
   "outputs": [],
   "source": [
    "hdu=filename_gas\n",
    "vo=hdu[0].header['CRVAL3']/1000\n",
    "deltv=hdu[0].header['CDELT3']/1000\n",
    "vc=8.0*u.km/u.s"
   ]
  },
  {
   "cell_type": "markdown",
   "metadata": {},
   "source": [
    "### Create spectra arrays"
   ]
  },
  {
   "cell_type": "code",
   "execution_count": 57,
   "metadata": {},
   "outputs": [],
   "source": [
    "lspectra=[]\n",
    "for i in range(len(lsource)):\n",
    "    xpix=int(round(Pixlist[lsource[i]-1][0]))\n",
    "    ypix=int(round(Pixlist[lsource[i]-1][1]))\n",
    "    velarray=vo+np.arange(chan)*deltv\n",
    "    intarray=np.mean(hdu[0].data[:,ypix-2:ypix+2,xpix-2:xpix+2],axis=(1,2))\n",
    "    lspectra.append([velarray,intarray])"
   ]
  },
  {
   "cell_type": "markdown",
   "metadata": {},
   "source": [
    "### Gaussian fitting and values at FWHM (maybe use a wider range so you don't exlude too many channels. 2.5-sigma?)"
   ]
  },
  {
   "cell_type": "markdown",
   "metadata": {},
   "source": [
    "### https://en.wikipedia.org/wiki/Full_width_at_half_maximum"
   ]
  },
  {
   "cell_type": "code",
   "execution_count": 58,
   "metadata": {},
   "outputs": [
    {
     "data": {
      "image/png": "[encoded data removed]",
      "text/plain": [
       "<Figure size 864x576 with 6 Axes>"
      ]
     },
     "metadata": {
      "needs_background": "light"
     },
     "output_type": "display_data"
    }
   ],
   "source": [
    "velrange=[]\n",
    "fit_g=fitting.LevMarLSQFitter()\n",
    "fitinfo=[] #amplitude, mean, std\n",
    "f, li = plt.subplots(2, 3, sharex='col', sharey='row',figsize=(12,8))\n",
    "i=0\n",
    "for j in range(2):\n",
    "    for k in range(3):\n",
    "        if i<len(lsource):\n",
    "            g2_init = models.Gaussian1D(amplitude=lspectra[i][1].max(), mean=lmean_guess[i], stddev=0.5)\n",
    "            g2=fit_g(g2_init,lspectra[i][0],lspectra[i][1])\n",
    "            #plt.plot(lspectra[i][0], g2(lspectra[i][0]),color='darkorange',linestyle='--')\n",
    "            #plt.plot(lspectra[i][0],lspectra[i][1],drawstyle='steps-mid')\n",
    "            fitinfo.append([g2.amplitude.value,g2.mean.value,g2.stddev.value])\n",
    "            velrange.append(np.round(2.355*g2.stddev.value,2))\n",
    "            li[j,k].plot(lspectra[i][0], g2(lspectra[i][0]),color='darkorange',linestyle='--')\n",
    "            li[j,k].plot(lspectra[i][0],lspectra[i][1],drawstyle='steps-mid')\n",
    "            li[j,k].text(10.5,0.45,'Source '+str(lsource[i]),color='0.1')\n",
    "            li[j,k].plot(np.repeat((2.355/2)*g2.stddev.value+g2.mean.value,len(np.arange(0,g2.amplitude.value,0.5))),np.arange(0,g2.amplitude.value,0.5),drawstyle='steps-mid')\n",
    "            li[j,k].plot(np.repeat(-(2.355/2)*g2.stddev.value+g2.mean.value,len(np.arange(0,g2.amplitude.value,0.5))),np.arange(0,g2.amplitude.value,0.5),drawstyle='steps-mid')\n",
    "            i+=1"
   ]
  },
  {
   "cell_type": "code",
   "execution_count": 59,
   "metadata": {},
   "outputs": [
    {
     "data": {
      "text/plain": [
       "[1.67, 1.95, 2.93, 3.19, 2.56]"
      ]
     },
     "execution_count": 59,
     "metadata": {},
     "output_type": "execute_result"
    }
   ],
   "source": [
    "velrange"
   ]
  },
  {
   "cell_type": "markdown",
   "metadata": {},
   "source": [
    "### Calculate masses in solar mass units: Check and add units to all quantities"
   ]
  },
  {
   "cell_type": "code",
   "execution_count": 66,
   "metadata": {},
   "outputs": [],
   "source": [
    "lmass=[]\n",
    "G=6.674e-11\n",
    "M=1*u.Msun.to(u.kg)\n",
    "for i in range(len(lsource)):\n",
    "    lmass.append(lrad[i]*(velrange[i]*1000/2)**2/(G*M))"
   ]
  },
  {
   "cell_type": "code",
   "execution_count": 67,
   "metadata": {},
   "outputs": [
    {
     "data": {
      "text/plain": [
       "[0.674572069517138,\n",
       " 1.360457106897034,\n",
       " 3.2666022186360166,\n",
       " 2.71294399191996,\n",
       " 1.4177151603995852]"
      ]
     },
     "execution_count": 67,
     "metadata": {},
     "output_type": "execute_result"
    }
   ],
   "source": [
    "lmass"
   ]
  },
  {
   "cell_type": "markdown",
   "metadata": {},
   "source": [
    "### Dust mass"
   ]
  },
  {
   "cell_type": "code",
   "execution_count": 62,
   "metadata": {},
   "outputs": [],
   "source": [
    "filenametxt='/home/juan/Desktop/Research/Data2.0/DustMass.txt'"
   ]
  },
  {
   "cell_type": "code",
   "execution_count": 63,
   "metadata": {},
   "outputs": [],
   "source": [
    "dustmass= np.loadtxt(filenametxt,unpack=True,usecols=(0),dtype='S')"
   ]
  },
  {
   "cell_type": "code",
   "execution_count": 68,
   "metadata": {},
   "outputs": [],
   "source": [
    "gdratio=[]\n",
    "t=0\n",
    "for i in lsource:\n",
    "    gdratio.append(lmass[t]/float(dustmass[i-1]))\n",
    "    t+=1"
   ]
  },
  {
   "cell_type": "code",
   "execution_count": 69,
   "metadata": {},
   "outputs": [
    {
     "data": {
      "text/plain": [
       "[4.527329325618376,\n",
       " 38.870203054200964,\n",
       " 12.420540755270025,\n",
       " 40.4917013719397,\n",
       " 1.6639849300464615]"
      ]
     },
     "execution_count": 69,
     "metadata": {},
     "output_type": "execute_result"
    }
   ],
   "source": [
    "gdratio"
   ]
  },
  {
   "cell_type": "code",
   "execution_count": null,
   "metadata": {},
   "outputs": [],
   "source": []
  }
 ],
 "metadata": {
  "kernelspec": {
   "display_name": "Python 2",
   "language": "python",
   "name": "python2"
  },
  "language_info": {
   "codemirror_mode": {
    "name": "ipython",
    "version": 2
   },
   "file_extension": ".py",
   "mimetype": "text/x-python",
   "name": "python",
   "nbconvert_exporter": "python",
   "pygments_lexer": "ipython2",
   "version": "2.7.18"
  }
 },
 "nbformat": 4,
 "nbformat_minor": 2
}
