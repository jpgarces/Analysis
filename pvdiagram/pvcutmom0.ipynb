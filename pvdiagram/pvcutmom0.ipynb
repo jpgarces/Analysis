{
 "cells": [
  {
   "cell_type": "markdown",
   "metadata": {},
   "source": [
    "### Position velocity diagram"
   ]
  },
  {
   "cell_type": "markdown",
   "metadata": {},
   "source": [
    "### Import packages"
   ]
  },
  {
   "cell_type": "code",
   "execution_count": 6,
   "metadata": {},
   "outputs": [],
   "source": [
    "import matplotlib\n",
    "#matplotlib.use('Qt4Agg')\n",
    "import matplotlib.pyplot as plt\n",
    "from astropy.io import fits \n",
    "import numpy as np  \n",
    "import aplpy \n",
    "from spectral_cube import SpectralCube \n",
    "from matplotlib import lines\n",
    "from astropy import wcs\n",
    "from astropy import coordinates\n",
    "from astropy import units as u\n",
    "from astropy.coordinates import SkyCoord\n",
    "import os\n",
    "import sys\n",
    "from pvextractor.gui import PVSlicer \n",
    "from pvextractor import extract_pv_slice\n",
    "from pvextractor.geometry import Path\n",
    "import matplotlib.ticker as ticker"
   ]
  },
  {
   "cell_type": "markdown",
   "metadata": {},
   "source": [
    "### Previous setup"
   ]
  },
  {
   "cell_type": "code",
   "execution_count": 7,
   "metadata": {},
   "outputs": [],
   "source": [
    "writechan = False ## CHOOSE WHETHER TO WRITE IMAGE TO A FILE (True), OR DISPLAY DIRECTLY (False). #MOD\n",
    "source=45 \n",
    "vc=8.0*u.km/u.s"
   ]
  },
  {
   "cell_type": "markdown",
   "metadata": {},
   "source": [
    "### Data file"
   ]
  },
  {
   "cell_type": "code",
   "execution_count": 8,
   "metadata": {},
   "outputs": [],
   "source": [
    "filename='/home/juan/Desktop/Research/Data2.0/Serpens/Serpens_concat_c18o_cube.fits'"
   ]
  },
  {
   "cell_type": "code",
   "execution_count": 9,
   "metadata": {},
   "outputs": [],
   "source": [
    "outname='pv_testS'+str(source)+'.eps'"
   ]
  },
  {
   "cell_type": "markdown",
   "metadata": {},
   "source": [
    "### Map setup"
   ]
  },
  {
   "cell_type": "code",
   "execution_count": 10,
   "metadata": {},
   "outputs": [
    {
     "name": "stderr",
     "output_type": "stream",
     "text": [
      "/home/juan/anaconda3/envs/old_env/lib/python2.7/site-packages/spectral_cube/spectral_cube.py:238: UserWarning: radio_beam is not installed. No beam can be created.\n",
      "  warnings.warn(\"radio_beam is not installed. No beam \"\n",
      "/home/juan/anaconda3/envs/old_env/lib/python2.7/site-packages/spectral_cube/spectral_cube.py:246: UserWarning: Could not parse beam information from header.  Exception was: UnboundLocalError(\"local variable 'Beam' referenced before assignment\",)\n",
      "  \"  Exception was: {0}\".format(ex.__repr__()))\n"
     ]
    }
   ],
   "source": [
    "cube0 = SpectralCube.read(filename)\n",
    "ch0='' #MOD\n",
    "chf='' #MOD\n",
    "if ch0 != '' and chf !='': \n",
    "  cube = cube0.subcube(zlo=ch0,zhi=chf)\n",
    "else: \n",
    "  cube=cube0\n",
    "  ch0 = 0\n",
    "  chf = cube.header['NAXIS3']"
   ]
  },
  {
   "cell_type": "markdown",
   "metadata": {},
   "source": [
    "### Create figure"
   ]
  },
  {
   "cell_type": "code",
   "execution_count": 11,
   "metadata": {},
   "outputs": [
    {
     "data": {
      "text/plain": [
       "<Figure size 648x432 with 0 Axes>"
      ]
     },
     "metadata": {},
     "output_type": "display_data"
    }
   ],
   "source": [
    "fig3 = plt.figure(figsize=(9,6)) #MOD\n",
    "fig3.clf() "
   ]
  },
  {
   "cell_type": "markdown",
   "metadata": {},
   "source": [
    "### Source coordinates"
   ]
  },
  {
   "cell_type": "code",
   "execution_count": 12,
   "metadata": {},
   "outputs": [],
   "source": [
    "filenametxt='/home/juan/Desktop/Research/Data/sourcecoordinates.txt'\n",
    "ra,dec = np.loadtxt(filenametxt,unpack=True,usecols=(0,1),dtype='S')"
   ]
  },
  {
   "cell_type": "code",
   "execution_count": 13,
   "metadata": {},
   "outputs": [],
   "source": [
    "Ra=[]\n",
    "Dec=[]\n",
    "for i in range(len(ra)):\n",
    "    Ra.append(ra[i].decode(\"utf-8\"))\n",
    "for i in range(len(dec)):\n",
    "    Dec.append(dec[i].decode(\"utf-8\"))"
   ]
  },
  {
   "cell_type": "code",
   "execution_count": 14,
   "metadata": {},
   "outputs": [],
   "source": [
    "coord=SkyCoord(Ra,Dec,frame='icrs',unit=(u.hourangle,u.deg)) \n",
    "c = SkyCoord(coord[source-1].ra,coord[source-1].dec, frame='icrs',unit=(u.hourangle,u.deg))"
   ]
  },
  {
   "cell_type": "markdown",
   "metadata": {},
   "source": [
    "### Optional"
   ]
  },
  {
   "cell_type": "code",
   "execution_count": 15,
   "metadata": {},
   "outputs": [],
   "source": [
    "def standard_setup(sp): \n",
    "  sp.set_frame_color('black')\n",
    "  sp.set_tick_labels_font(size='14')\n",
    "  sp.set_axis_labels_font(size='16')\n",
    "  sp.set_tick_labels_format(xformat='hh:mm:ss',yformat='dd:mm:ss') \n",
    "  sp.set_tick_color('black')\n",
    "  sp.set_system_latex(True) #use latex math symbols in plots\n",
    "def pv_setup(sp):\n",
    "  sp.set_frame_color('black')\n",
    "  sp.set_tick_labels_font(size='14')\n",
    "  sp.set_axis_labels_font(size='16')\n",
    "  #sp.set_tick_labels_format(xformat='mm:ss',yformat='dd:mm:ss') \n",
    "  sp.set_tick_color('black')\n",
    "  sp.set_system_latex(True)"
   ]
  },
  {
   "cell_type": "markdown",
   "metadata": {},
   "source": [
    "### Locate source"
   ]
  },
  {
   "cell_type": "code",
   "execution_count": 16,
   "metadata": {},
   "outputs": [],
   "source": [
    "RAcoord=c.ra\n",
    "Deccoord=c.dec\n",
    "xcoord=[0,cube.shape[2]] \n",
    "ycoord=[0,cube.shape[1]]\n",
    "x_w,y_w=[RAcoord.value],[Deccoord.value]\n",
    "dchan=1 #0.5 to shorten interval\n",
    "amp=5"
   ]
  },
  {
   "cell_type": "markdown",
   "metadata": {},
   "source": [
    "### Source PV info"
   ]
  },
  {
   "cell_type": "markdown",
   "metadata": {},
   "source": [
    "### We extract the cut info from 2D fitting performed in CASA. That step has to be done again for the new data."
   ]
  },
  {
   "cell_type": "code",
   "execution_count": 17,
   "metadata": {},
   "outputs": [],
   "source": [
    "file2dfit='/home/juan/Desktop/Research/Data2.0/2DFit/'+str(source)+'/2DGssfit'+str(source)+'Log.txt'\n",
    "file1=open(file2dfit,'r')\n",
    "i=1\n",
    "for line in file1:\n",
    "\tif i==27:\n",
    "\t\tline1=line\n",
    "\tif i==29:\n",
    "\t\tline2=line\n",
    "\ti+=1\n",
    "file1.close()\n",
    "for j in range(len(line1)):\n",
    "\tif line1[j]==':':\n",
    "\t\tk=j+1\n",
    "\t\tmajax1=''\n",
    "\t\twhile line1[k]!='+':\n",
    "\t\t\tmajax1+=line1[k]\n",
    "\t\t\tk+=1\n",
    "for j in range(len(line2)):\n",
    "\tif line2[j]==':':\n",
    "\t\tk=j+1\n",
    "\t\tangle1=''\n",
    "\t\twhile line2[k]!='+':\n",
    "\t\t\tangle1+=line2[k]\n",
    "\t\t\tk+=1\n",
    "dchan=1 #0.5 to shorten interval\n",
    "amp=5\n",
    "majorax=amp*float(majax1.strip())"
   ]
  },
  {
   "cell_type": "markdown",
   "metadata": {},
   "source": [
    "### Panel (b): PV Plot"
   ]
  },
  {
   "cell_type": "code",
   "execution_count": 18,
   "metadata": {},
   "outputs": [],
   "source": [
    "panels=[[0.005,0.5,0.326,0.48],[0.336,0.5,0.326,0.48],[0.667,0.5,0.326,0.48],[0.005,0.01,0.326,0.48],[0.336,0.01,0.326,0.48],[0.667,0.01,0.326,0.48]]\n",
    "angles=[0.0,30.0,60.0,float(angle1.strip()),110.0,140.0]\n",
    "\n",
    "for i in range(6):\n",
    "\tangle=angles[i]\n",
    "\tmajorax=amp*float(majax1.strip())\n",
    "\n",
    "\t#PV-CUT:\n",
    "halflength = majorax/2.*u.arcsec  #MOD\n",
    "pa = angle*u.deg #Deg: degrees away from vertical.\n",
    "avnumb=6 #number of pixels to average perpendicular to pv-cut #MOD\n",
    "inter = 1*u.arcsec #interval you want the arcsec to be marked on #MOD\n",
    "\n",
    "# Calculate the x,y coordinates on either end of the PV cut\n",
    "upperx = RAcoord+halflength.to(u.deg)*np.sin(pa.to(u.rad))\n",
    "lowerx = RAcoord-halflength.to(u.deg)*np.sin(pa.to(u.rad))\n",
    "uppery = Deccoord+halflength.to(u.deg)*np.cos(pa.to(u.rad))\n",
    "lowery = Deccoord-halflength.to(u.deg)*np.cos(pa.to(u.rad))\n",
    "endpoints_deg = np.array([[upperx.value,uppery.value],[lowerx.value,lowery.value]]) "
   ]
  },
  {
   "cell_type": "markdown",
   "metadata": {},
   "source": [
    "### Panel (a): Moment 0 map"
   ]
  },
  {
   "cell_type": "code",
   "execution_count": 19,
   "metadata": {},
   "outputs": [
    {
     "name": "stderr",
     "output_type": "stream",
     "text": [
      "/home/juan/anaconda3/envs/old_env/lib/python2.7/site-packages/spectral_cube/masks.py:185: FutureWarning: Using a non-tuple sequence for multidimensional indexing is deprecated; use `arr[tuple(seq)]` instead of `arr[seq]`. In the future this will be interpreted as an array index, `arr[np.array(seq)]`, which will result either in an error or a different result.\n",
      "  sliced_data = data[view].astype(dt)\n",
      "/home/juan/anaconda3/envs/old_env/lib/python2.7/site-packages/spectral_cube/masks.py:503: FutureWarning: Using a non-tuple sequence for multidimensional indexing is deprecated; use `arr[tuple(seq)]` instead of `arr[seq]`. In the future this will be interpreted as an array index, `arr[np.array(seq)]`, which will result either in an error or a different result.\n",
      "  return self._function(self._data[view])\n",
      "/home/juan/anaconda3/envs/old_env/lib/python2.7/site-packages/aplpy/labels.py:432: UnicodeWarning: Unicode equal comparison failed to convert both arguments to Unicode - interpreting them as being unequal\n",
      "  if self.coord == x or self.axis.apl_tick_positions_world[ipos] > 0:\n",
      "/home/juan/anaconda3/envs/old_env/lib/python2.7/site-packages/aplpy/normalize.py:115: RuntimeWarning: invalid value encountered in less\n",
      "  negative = result < 0.\n"
     ]
    },
    {
     "data": {
      "image/png": "[encoded data removed]",
      "text/plain": [
       "<Figure size 432x288 with 1 Axes>"
      ]
     },
     "metadata": {
      "needs_background": "light"
     },
     "output_type": "display_data"
    }
   ],
   "source": [
    "## FIRST MAKE MOMENT MAP:\n",
    "moment_0 = cube0.moment(order=0)\n",
    "## NEXT PLOT (next to the PV plot):\n",
    "f2 = aplpy.FITSFigure(moment_0.hdu,dimensions=[0,1],figure=fig3,subplot=(panels[i]))\n",
    "standard_setup(f2) \n",
    "#f2._ax1.yaxis.labelpad = -20 ## Move label closer to figure #MOD\n",
    "mom0_vmin = np.nanmin(moment_0).value*0.4 #modify multiplicative factor to make #MOD better contrast\n",
    "mom0_vmax = np.nanmax(moment_0).value*0.6 #Shorten colorscale to make it more sensible for a higher number of pixels. #MOD\n",
    "f2.show_grayscale(vmin=mom0_vmin,vmax=mom0_vmax,invert=True)\n",
    "xx=np.abs(cube0.header['NAXIS1']*cube0.header['cdelt1'])\n",
    "yy=np.abs(cube0.header['NAXIS2']*cube0.header['cdelt2'])\n",
    "mapwidth=5.*u.arcsec #MOD\n",
    "mapheight=5.*u.arcsec #MOD\n",
    "f2.recenter(RAcoord,Deccoord,width=mapwidth.to(u.deg).value,height=mapheight.to(u.deg).value)\n",
    "f2.show_markers(RAcoord, Deccoord,marker=\"*\",c='None',edgecolors=\"magenta\",s=300,linewidths=2.0)#MOD\n",
    "plt.axis('off')\n",
    "f2.add_label(0.15,0.9,str(pa.value)+' deg',relative=True,color='red',size='large')\n",
    "#### TO SHOW PV CUT\n",
    "f2.show_lines([endpoints_deg.T],color='DarkMagenta',linewidths=2.0,linestyle='-')\n",
    "#BEAMSIZE\n",
    "'''bmaj=1.043*u.arcsec.to(u.deg) #MOD\n",
    "bmin=0.7046*u.arcsec.to(u.deg) #MOD\n",
    "bpa=76.299 #MOD\n",
    "f2.show_beam(major=bmaj,minor=bmin,angle=bpa,fill=True,color='DeepSkyBlue') #MOD\n",
    "f2.add_label(0.7, 0.93, '(a) C18O map', relative=True, color=\"Black\", size=20) #MOD'''\n",
    "#MODIFY AXES:\n",
    "'''F4.refresh() \n",
    "print([x.get_text()[1:-1] for x in F4._ax1.get_yticklabels()]) \n",
    "xlim=F4._ax1.get_xlim() \n",
    "ylim=F4._ax1.get_ylim()\n",
    "xlim_lo = minvel \n",
    "xlim_hi = maxvel\n",
    "ylim_lo=(ylim[0])*pv.header['CDELT1']+pv.header['CRVAL1']-pv.header['CDELT1']\n",
    "ylim_hi=(ylim[1])*pv.header['CDELT1']+pv.header['CRVAL1']-pv.header['CDELT1']\n",
    "npix = round(halflength.to(u.deg) / (cube.header['cdelt2']*u.deg))\n",
    "inter_px = inter.to(u.deg).value/(ylim_hi-ylim_lo)*(ylim[1]-ylim[0])\n",
    "ntick = (int((ylim_hi-ylim_lo)/inter.to(u.deg).value)+2) \n",
    "print([x.get_text() for x in F4._ax1.get_yticklabels()])\n",
    "F4.refresh() \n",
    "F4._ax1.yaxis.set_major_locator(ticker.MultipleLocator(inter_px)) \n",
    "F4._ax1.yaxis.set_minor_locator(ticker.MultipleLocator(inter_px/inter.value)) \n",
    "newticks = np.arange(0,inter.value*ntick,inter.value)-halflength.value \n",
    "F4._ax1.set_yticklabels(newticks)\n",
    "F4.refresh()\n",
    "print([x.get_text()[:-2] for x in F4._ax1.get_yticklabels()])\n",
    "F4._ax1.set_xticklabels([str(float(x.get_text()[:])/1000.*dchan)[:-2] for x in F4._ax1.get_xticklabels()])\n",
    "F4._ax1.set_yticklabels([x.get_text()[:] for x in F4._ax1.get_yticklabels()])##NOTE## Here edit the indexing of x.get_text()[:-2]. #with [:-2] we achieve to do '12.0 -> '12'\n",
    "F4._ax1.set_ylabel('Offset (arcsec)') \n",
    "F4._ax1.set_xlabel(\"$V_{LSR} (\\mathrm{km\\ s}^{-1})$\")\n",
    "print([x.get_text() for x in F4._ax1.get_yticklabels()])\n",
    "F4.refresh()\n",
    "F4._ax2.yaxis.set_major_locator(ticker.MultipleLocator(inter_px)) \n",
    "F4._ax2.yaxis.set_minor_locator(ticker.MultipleLocator(inter_px/inter.value))\n",
    "F4._ax1.yaxis.labelpad = -9 #Edit to modify spacing #MOD'''\n",
    "\n",
    "'''\n",
    "################################\n",
    "## FINAL ANNOTATIONS\n",
    "################################\n",
    "# HORIZONTAL LINE TO SHOW resolution in PV Plot. \n",
    "res_elem = 0.15*u.arcsec ##?## Where do I get this?? #resolution element, or beam size #MOD\n",
    "x1_res=res_elem.to(u.deg).value \n",
    "x2_res=x1_res+res_elem.to(u.deg).value \n",
    "y1_res=pvcube.spectral_axis.min().value\n",
    "y2_res=pvcube.spectral_axis.max().value \n",
    " \n",
    "\n",
    " \n",
    "# Set up a second Axis on top of pv plot, to show annotations (if necessary) ##?## invisible axes just to make annotations\n",
    "ax2 = fig3.add_axes(rightpanel) \n",
    "ax2.set_xlim(xlim_lo,xlim_hi)\n",
    "ax2.set_ylim(ylim_lo,ylim_hi)\n",
    " \n",
    "ax2.set_axis_off()\n",
    " \n",
    "# VERTICAL (dashed) LINE TO SHOW v_c in PV Plot\n",
    "hx1 = 0.\n",
    "hx2 = 2.*halflength.to(u.deg).value\n",
    "hy1 = vc.to(u.m/u.s).value\n",
    "ax2.vlines(hy1,hx1,hx2,colors='green',linestyles='dashed',label='$v_c$',zorder='3',lw=2) ##?## ##JP## I am getting vertical line shifted #MOD\n",
    "ax2.annotate('$v_c$',xy=(hy1,x1_res*2.0),xycoords='data',color='green',size='16')\n",
    " \n",
    "# HORIZONTAL (dashed) LINE TO SHOW star position in PV Plot. Separate position to left and right from the source along the position line. \n",
    "hx3 = xlim_lo\n",
    "hx4 = xlim_hi\n",
    "hy3 = halflength.to(u.deg).value\n",
    "#### NOTE, You have to move these around a bit depending on your target. #MOD\n",
    "ax2.hlines(hy3,hx3,hx4,colors='magenta',linestyles='dashed',label='protostar',zorder='3',lw=2)\n",
    "ax2.annotate('protostar',xy=(xlim_hi,hy3-2*res_elem.to(u.deg).value),xycoords='data',color='magenta',size='20',verticalalignment='top')\n",
    "ax2.annotate('(b) CO, \\n PV diag.',xy=(xlim_hi,hy3+8*res_elem.to(u.deg).value),xycoords='data',color='Black',size='20',verticalalignment='top')'''\n",
    "\n",
    "##SHOW/SAVE FIGURE:\n",
    "#plt.show()\n",
    "if writechan: \n",
    "  plt.savefig(outname)\n",
    "#if not writechan:\n",
    "  #print 'print to screen'\n",
    "  #fig3.show() \n",
    "#plt.close(fig3)"
   ]
  },
  {
   "cell_type": "code",
   "execution_count": 20,
   "metadata": {},
   "outputs": [
    {
     "data": {
      "image/png": "[encoded data removed]",
      "text/plain": [
       "<Figure size 648x432 with 1 Axes>"
      ]
     },
     "execution_count": 20,
     "metadata": {},
     "output_type": "execute_result"
    }
   ],
   "source": [
    "fig3"
   ]
  }
 ],
 "metadata": {
  "kernelspec": {
   "display_name": "Python 2",
   "language": "python",
   "name": "python2"
  },
  "language_info": {
   "codemirror_mode": {
    "name": "ipython",
    "version": 2
   },
   "file_extension": ".py",
   "mimetype": "text/x-python",
   "name": "python",
   "nbconvert_exporter": "python",
   "pygments_lexer": "ipython2",
   "version": "2.7.18"
  }
 },
 "nbformat": 4,
 "nbformat_minor": 4
}
