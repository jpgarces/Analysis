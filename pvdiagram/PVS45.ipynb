{
 "cells": [
  {
   "cell_type": "markdown",
   "metadata": {},
   "source": [
    "### Position velocity diagram"
   ]
  },
  {
   "cell_type": "markdown",
   "metadata": {},
   "source": [
    "### http://swcarpentry.github.io/training-course/2014/02/motivation-using-aplpy-to-create-publication-quality-astronomical-images/\n",
    "\n",
    "### https://aplpy.readthedocs.io/en/stable/api/aplpy.FITSFigure.html#aplpy.FITSFigure.set_xaxis_coord_type"
   ]
  },
  {
   "cell_type": "markdown",
   "metadata": {},
   "source": [
    "### https://aplpy.readthedocs.io/en/stable/"
   ]
  },
  {
   "cell_type": "markdown",
   "metadata": {},
   "source": [
    "### Import packages"
   ]
  },
  {
   "cell_type": "code",
   "execution_count": 1,
   "metadata": {},
   "outputs": [
    {
     "name": "stderr",
     "output_type": "stream",
     "text": [
      "/home/juan/anaconda3/envs/old_env/lib/python2.7/site-packages/matplotlib/cbook/deprecation.py:107: MatplotlibDeprecationWarning: The mpl_toolkits.axes_grid module was deprecated in version 2.1. Use mpl_toolkits.axes_grid1 and mpl_toolkits.axisartist provies the same functionality instead.\n",
      "  warnings.warn(message, mplDeprecation, stacklevel=1)\n"
     ]
    }
   ],
   "source": [
    "#import matplotlib\n",
    "#matplotlib.use('TkAgg')\n",
    "#matplotlib.use('Qt4Agg')\n",
    "#matplotlib.use('WebAgg')\n",
    "import matplotlib.pyplot as plt\n",
    "from astropy.io import fits \n",
    "import numpy as np  \n",
    "import aplpy \n",
    "from spectral_cube import SpectralCube \n",
    "from matplotlib import lines\n",
    "from astropy import wcs\n",
    "from astropy import coordinates\n",
    "from astropy import units as u\n",
    "from astropy.coordinates import SkyCoord\n",
    "import os\n",
    "import sys\n",
    "from pvextractor.gui import PVSlicer \n",
    "from pvextractor import extract_pv_slice\n",
    "from pvextractor.geometry import Path\n",
    "import matplotlib.ticker as ticker\n",
    "from matplotlib import rc\n",
    "rc('text', usetex=False)\n",
    "#%matplotlib inline"
   ]
  },
  {
   "cell_type": "markdown",
   "metadata": {},
   "source": [
    "### Previous setup"
   ]
  },
  {
   "cell_type": "code",
   "execution_count": 2,
   "metadata": {},
   "outputs": [],
   "source": [
    "writechan = False ## CHOOSE WHETHER TO WRITE IMAGE TO A FILE (True), OR DISPLAY DIRECTLY (False). #MOD\n",
    "source=45 \n",
    "vc=8.0*u.km/u.s"
   ]
  },
  {
   "cell_type": "markdown",
   "metadata": {},
   "source": [
    "### Data file"
   ]
  },
  {
   "cell_type": "code",
   "execution_count": 3,
   "metadata": {},
   "outputs": [],
   "source": [
    "filename='/home/juan/Desktop/Research/Data2.0/Serpens/Serpens_Feather_c18o.fits'"
   ]
  },
  {
   "cell_type": "code",
   "execution_count": 4,
   "metadata": {},
   "outputs": [],
   "source": [
    "outname='pv_testS'+str(source)+'.eps'"
   ]
  },
  {
   "cell_type": "markdown",
   "metadata": {},
   "source": [
    "### Map setup"
   ]
  },
  {
   "cell_type": "code",
   "execution_count": 5,
   "metadata": {},
   "outputs": [],
   "source": [
    "leftpanel = [0.12,0.1,0.38,0.8] # (xo,yo,width,height) #MOD\n",
    "rightpanel = [0.61,0.1,0.38,0.8]\n",
    "cube0 = SpectralCube.read(filename)\n",
    "ch0=18 #MOD\n",
    "chf=54 #MOD\n",
    "if ch0 != '' and chf !='': \n",
    "    cube=cube0.spectral_slab(5 * u.km / u.s, 11 * u.km / u.s) \n",
    "    #cube = cube0.subcube(zlo=ch0,zhi=chf)\n",
    "else:\n",
    "    cube=cube0\n",
    "    ch0 = 0\n",
    "    chf = cube.header['NAXIS3']"
   ]
  },
  {
   "cell_type": "code",
   "execution_count": 6,
   "metadata": {},
   "outputs": [
    {
     "data": {
      "text/plain": [
       "(37, 3000, 3000)"
      ]
     },
     "execution_count": 6,
     "metadata": {},
     "output_type": "execute_result"
    }
   ],
   "source": [
    "cube.shape"
   ]
  },
  {
   "cell_type": "markdown",
   "metadata": {},
   "source": [
    "### Create figure"
   ]
  },
  {
   "cell_type": "code",
   "execution_count": 7,
   "metadata": {},
   "outputs": [
    {
     "data": {
      "text/plain": [
       "<Figure size 648x432 with 0 Axes>"
      ]
     },
     "metadata": {},
     "output_type": "display_data"
    }
   ],
   "source": [
    "fig3 = plt.figure(figsize=(9,6)) #MOD\n",
    "fig3.clf() "
   ]
  },
  {
   "cell_type": "markdown",
   "metadata": {},
   "source": [
    "### Source coordinates"
   ]
  },
  {
   "cell_type": "code",
   "execution_count": 8,
   "metadata": {},
   "outputs": [],
   "source": [
    "filenametxt='/home/juan/Desktop/Research/Data/sourcecoordinates.txt'\n",
    "ra,dec = np.loadtxt(filenametxt,unpack=True,usecols=(0,1),dtype='S')"
   ]
  },
  {
   "cell_type": "code",
   "execution_count": 9,
   "metadata": {},
   "outputs": [],
   "source": [
    "Ra=[]\n",
    "Dec=[]\n",
    "for i in range(len(ra)):\n",
    "    Ra.append(ra[i].decode(\"utf-8\"))\n",
    "for i in range(len(dec)):\n",
    "    Dec.append(dec[i].decode(\"utf-8\"))"
   ]
  },
  {
   "cell_type": "code",
   "execution_count": 10,
   "metadata": {},
   "outputs": [],
   "source": [
    "coord=SkyCoord(Ra,Dec,frame='icrs',unit=(u.hourangle,u.deg)) \n",
    "c = SkyCoord(coord[source-1].ra,coord[source-1].dec, frame='icrs',unit=(u.hourangle,u.deg))"
   ]
  },
  {
   "cell_type": "markdown",
   "metadata": {},
   "source": [
    "### Source PV Info"
   ]
  },
  {
   "cell_type": "markdown",
   "metadata": {},
   "source": [
    "### We extract the cut info from 2D fitting performed in CASA. That step has to be done again for the new data."
   ]
  },
  {
   "cell_type": "code",
   "execution_count": 11,
   "metadata": {},
   "outputs": [],
   "source": [
    "file2dfit='/home/juan/Desktop/Research/Data2.0/2DFit/'+str(source)+'/2DGssfit'+str(source)+'Log.txt'\n",
    "file1=open(file2dfit,'r')\n",
    "i=1\n",
    "for line in file1:\n",
    "\tif i==27:\n",
    "\t\tline1=line\n",
    "\tif i==29:\n",
    "\t\tline2=line\n",
    "\ti+=1\n",
    "file1.close()\n",
    "for j in range(len(line1)):\n",
    "\tif line1[j]==':':\n",
    "\t\tk=j+1\n",
    "\t\tmajax1=''\n",
    "\t\twhile line1[k]!='+':\n",
    "\t\t\tmajax1+=line1[k]\n",
    "\t\t\tk+=1\n",
    "for j in range(len(line2)):\n",
    "\tif line2[j]==':':\n",
    "\t\tk=j+1\n",
    "\t\tangle1=''\n",
    "\t\twhile line2[k]!='+':\n",
    "\t\t\tangle1+=line2[k]\n",
    "\t\t\tk+=1\n",
    "dchan=1 #0.5 to shorten interval\n",
    "amp=5\n",
    "angle=float(angle1.strip())\n",
    "majorax=amp*float(majax1.strip())"
   ]
  },
  {
   "cell_type": "markdown",
   "metadata": {},
   "source": [
    "### PV cut"
   ]
  },
  {
   "cell_type": "code",
   "execution_count": 12,
   "metadata": {},
   "outputs": [],
   "source": [
    "halflength = majorax/2.*u.arcsec  #MOD\n",
    "pa = angle*u.deg #Deg: degrees away from vertical.\n",
    "avnumb=6 #number of pixels to average perpendicular to pv-cut #MOD\n",
    "inter = 1*u.arcsec #interval you want the arcsec to be marked on #MOD"
   ]
  },
  {
   "cell_type": "code",
   "execution_count": 13,
   "metadata": {},
   "outputs": [
    {
     "data": {
      "text/latex": [
       "$20.53 \\; \\mathrm{{}^{\\prime\\prime}}$"
      ],
      "text/plain": [
       "<Quantity 20.53 arcsec>"
      ]
     },
     "execution_count": 13,
     "metadata": {},
     "output_type": "execute_result"
    }
   ],
   "source": [
    "majorax*u.arcsec"
   ]
  },
  {
   "cell_type": "markdown",
   "metadata": {},
   "source": [
    "### Optional"
   ]
  },
  {
   "cell_type": "code",
   "execution_count": 14,
   "metadata": {},
   "outputs": [],
   "source": [
    "def standard_setup(sp): \n",
    "    #sp.set_theme('publication')\n",
    "    #sp.frame.set_color('black')\n",
    "    #sp.ticks.show_x()\n",
    "    #sp.ticks.show_y()\n",
    "    #sp.tick_labels.set_xformat('hh:mm:ss')\n",
    "    #sp.tick_labels.set_yformat('dd:mm:ss')\n",
    "    #sp.tick_labels.show_x()\n",
    "    #sp.tick_labels.show_y()\n",
    "    #sp.ticks.set_font(size='14')\n",
    "    #sp.tick_labels.set_font(size='16')\n",
    "    sp.set_tick_labels_font(size='14')\n",
    "    sp.set_axis_labels_font(size='16')\n",
    "    sp.set_tick_labels_format(xformat='hh:mm:ss',yformat='dd:mm:ss') \n",
    "    sp.set_tick_color('black')\n",
    "    sp.set_system_latex(False) #use latex math symbols in plots\n",
    "def pv_setup(sp):\n",
    "    #sp.frame.set_color('black')\n",
    "    #sp.ticks.show_x()\n",
    "    #sp.ticks.show_y()\n",
    "    #sp.tick_labels.set_xformat('mm:ss')\n",
    "    #sp.tick_labels.set_yformat('dd:mm:ss')\n",
    "    #sp.tick_labels.show_x()\n",
    "    #sp.tick_labels.show_y()\n",
    "    #sp.ticks.set_font(size='14')\n",
    "    #sp.tick_labels.set_font(size='16')\n",
    "    sp.set_frame_color('black')\n",
    "    sp.set_tick_labels_font(size='14')\n",
    "    sp.set_axis_labels_font(size='16')\n",
    "    #sp.set_tick_labels_format(xformat='mm:ss',yformat='dd:mm:ss') \n",
    "    sp.set_tick_color('black')\n",
    "    sp.set_system_latex(False)"
   ]
  },
  {
   "cell_type": "markdown",
   "metadata": {},
   "source": [
    "### Locate source"
   ]
  },
  {
   "cell_type": "code",
   "execution_count": 15,
   "metadata": {},
   "outputs": [],
   "source": [
    "RAcoord=c.ra\n",
    "Deccoord=c.dec\n",
    "xcoord=[0,cube.shape[2]] \n",
    "ycoord=[0,cube.shape[1]]\n",
    "x_w,y_w=[RAcoord.value],[Deccoord.value]\n",
    "dchan=1 #0.5 to shorten interval\n",
    "amp=5\n",
    "upperx = RAcoord+halflength.to(u.deg)*np.sin(pa.to(u.rad))\n",
    "lowerx = RAcoord-halflength.to(u.deg)*np.sin(pa.to(u.rad))\n",
    "uppery = Deccoord+halflength.to(u.deg)*np.cos(pa.to(u.rad))\n",
    "lowery = Deccoord-halflength.to(u.deg)*np.cos(pa.to(u.rad))\n",
    "endpoints_deg = np.array([[upperx.value,uppery.value],[lowerx.value,lowery.value]]) "
   ]
  },
  {
   "cell_type": "markdown",
   "metadata": {},
   "source": [
    "### Make a PV cube"
   ]
  },
  {
   "cell_type": "code",
   "execution_count": 16,
   "metadata": {},
   "outputs": [
    {
     "name": "stderr",
     "output_type": "stream",
     "text": [
      "/home/juan/anaconda3/envs/old_env/lib/python2.7/site-packages/spectral_cube/masks.py:506: FutureWarning: Using a non-tuple sequence for multidimensional indexing is deprecated; use `arr[tuple(seq)]` instead of `arr[seq]`. In the future this will be interpreted as an array index, `arr[np.array(seq)]`, which will result either in an error or a different result.\n",
      "  return LazyMask(self._function, data=self._data[view],\n",
      "/home/juan/anaconda3/envs/old_env/lib/python2.7/site-packages/spectral_cube/spectral_cube.py:1080: FutureWarning: Using a non-tuple sequence for multidimensional indexing is deprecated; use `arr[tuple(seq)]` instead of `arr[seq]`. In the future this will be interpreted as an array index, `arr[np.array(seq)]`, which will result either in an error or a different result.\n",
      "  return self._new_cube_with(data=self._data[view],\n"
     ]
    }
   ],
   "source": [
    "pvcube = cube0.subcube(xlo=xcoord[0],xhi=xcoord[1],ylo=ycoord[0],yhi=ycoord[1],zlo=ch0,zhi=chf+1) #modified from cube to cube0\n",
    "hdu = pvcube\n",
    "w = wcs.WCS(hdu.header)"
   ]
  },
  {
   "cell_type": "code",
   "execution_count": 17,
   "metadata": {},
   "outputs": [],
   "source": [
    "endpoints_pix = w.sub([wcs.WCSSUB_CELESTIAL]).wcs_world2pix([[x,y] for x,y in endpoints_deg], 0) \n",
    "endpoints_list=endpoints_pix.tolist() "
   ]
  },
  {
   "cell_type": "code",
   "execution_count": 18,
   "metadata": {},
   "outputs": [
    {
     "name": "stdout",
     "output_type": "stream",
     "text": [
      "\n"
     ]
    }
   ],
   "source": [
    "path=Path(endpoints_list,width=avnumb) \n",
    "pv = extract_pv_slice(hdu,path,wcs=w) \n",
    "pv_vel=pvcube.spectral_axis "
   ]
  },
  {
   "cell_type": "code",
   "execution_count": 19,
   "metadata": {},
   "outputs": [],
   "source": [
    "minvel = pv_vel.min().value\n",
    "maxvel = pv_vel.max().value\n",
    "pvstd = pv.data[0:3,0:20].std() #choose a low signal region #MOD\n",
    "pvstd2 = pv.data[15:18,170:190].std() #MOD\n",
    "pvrms = np.nanmean([pvstd,pvstd2])"
   ]
  },
  {
   "cell_type": "markdown",
   "metadata": {},
   "source": [
    "### Panel (b): PV Plot"
   ]
  },
  {
   "cell_type": "code",
   "execution_count": 20,
   "metadata": {},
   "outputs": [],
   "source": [
    "F4 = aplpy.FITSFigure(pv,dimensions=[1,0],figure=fig3,subplot=(rightpanel)) \n",
    "pv_setup(F4)\n",
    "#F4.show_grayscale(aspect='auto',pmin=.5,pmax=99.75,stretch='linear',invert=True)\n",
    "F4.show_contour(colors='orange',levels=[12*pvrms,15*pvrms,20*pvrms,23*pvrms,25*pvrms,28*pvrms],dimensions=[1,0])\n",
    "#F4.show_contour(colors='orange',levels=10,dimensions=[1,0])"
   ]
  },
  {
   "cell_type": "markdown",
   "metadata": {},
   "source": [
    "### Modify axes"
   ]
  },
  {
   "cell_type": "code",
   "execution_count": 21,
   "metadata": {},
   "outputs": [
    {
     "name": "stdout",
     "output_type": "stream",
     "text": [
      "[u'', u'.00', u'.00', u'.00', u'.00', u'.00']\n",
      "[u'0', u'0.001', u'0.002', u'0.003', u'0.004', u'0.005']\n",
      "['-10', '-8', '-6', '-4', '-2', '0', '2', '4', '6', '8', '10', '']\n",
      "['-10.0', '-8.0', '-6.0', '-4.0', '-2.0', '0.0', '2.0', '4.0', '6.0', '8.0', '10.0', '']\n"
     ]
    }
   ],
   "source": [
    "#F4.refresh() \n",
    "#F4.set_system_latex(True)\n",
    "print([x.get_text()[1:-1] for x in F4._ax1.get_yticklabels()]) \n",
    "xlim=F4._ax1.get_xlim() \n",
    "ylim=F4._ax1.get_ylim()\n",
    "xlim_lo = minvel \n",
    "xlim_hi = maxvel\n",
    "ylim_lo=(ylim[0])*pv.header['CDELT1']+pv.header['CRVAL1']-pv.header['CDELT1']\n",
    "ylim_hi=(ylim[1])*pv.header['CDELT1']+pv.header['CRVAL1']-pv.header['CDELT1']\n",
    "npix = round(halflength.to(u.deg) / (cube.header['cdelt2']*u.deg))\n",
    "inter_px = inter.to(u.deg).value/(ylim_hi-ylim_lo)*(ylim[1]-ylim[0])\n",
    "ntick = (int(int((ylim_hi-ylim_lo)/inter.to(u.deg).value))+2) \n",
    "print([x.get_text() for x in F4._ax1.get_yticklabels()])\n",
    "#F4.refresh() \n",
    "F4._ax1.yaxis.set_major_locator(ticker.MultipleLocator(2*inter_px)) \n",
    "F4._ax1.yaxis.set_minor_locator(ticker.MultipleLocator(inter_px/inter.value)) \n",
    "newticks = np.arange(0,round(inter.value)*round(ntick),2*round(inter.value))-round(halflength.value) \n",
    "#newticks=np.array([10,8,6,4,2,0,-2,-4,-6,-8,-10])\n",
    "F4._ax1.set_yticklabels(newticks)\n",
    "#F4.refresh()\n",
    "print([x.get_text()[:-2] for x in F4._ax1.get_yticklabels()])\n",
    "F4._ax1.set_xticklabels([str(float(x.get_text()[:])/1000.*dchan)[:-2] for x in F4._ax1.get_xticklabels()])\n",
    "#F4._ax1.set_yticklabels([x.get_text()[:-2] for x in F4._ax1.get_yticklabels()],size=10)##NOTE## Here edit the indexing of x.get_text()[:-2]. #with [:-2] we achieve to do '12.0 -> '12'\n",
    "F4._ax1.set_ylabel('Offset (arcsec)',size=13) \n",
    "F4._ax1.set_xlabel(\"$V_{LSR} (\\mathrm{km\\ s}^{-1})$\")\n",
    "print([x.get_text() for x in F4._ax1.get_yticklabels()])\n",
    "#F4.refresh()\n",
    "F4._ax2.yaxis.set_major_locator(ticker.MultipleLocator(round(inter_px))) \n",
    "F4._ax2.yaxis.set_minor_locator(ticker.MultipleLocator(round(inter_px/inter.value)))\n",
    "F4._ax1.yaxis.labelpad = -9 \n",
    "#F4.set_system_latex(False)"
   ]
  },
  {
   "cell_type": "code",
   "execution_count": 22,
   "metadata": {},
   "outputs": [
    {
     "data": {
      "text/plain": [
       "19.9999999999984"
      ]
     },
     "execution_count": 22,
     "metadata": {},
     "output_type": "execute_result"
    }
   ],
   "source": [
    "2*inter_px"
   ]
  },
  {
   "cell_type": "code",
   "execution_count": 23,
   "metadata": {},
   "outputs": [
    {
     "data": {
      "text/plain": [
       "array([-10.,  -8.,  -6.,  -4.,  -2.,   0.,   2.,   4.,   6.,   8.,  10.])"
      ]
     },
     "execution_count": 23,
     "metadata": {},
     "output_type": "execute_result"
    }
   ],
   "source": [
    "newticks"
   ]
  },
  {
   "cell_type": "code",
   "execution_count": null,
   "metadata": {},
   "outputs": [],
   "source": []
  },
  {
   "cell_type": "markdown",
   "metadata": {},
   "source": [
    "### Plot kinematic model lines"
   ]
  },
  {
   "cell_type": "markdown",
   "metadata": {},
   "source": [
    "### Keplerian rotation: try with different values of M obtained from 2D-Fit performed in CASA"
   ]
  },
  {
   "cell_type": "code",
   "execution_count": 24,
   "metadata": {},
   "outputs": [],
   "source": [
    "velvalues=np.arange(5,11,0.1)*1000*(u.m/u.s)-vc.to(u.m/u.s)\n",
    "velvalues2=np.arange(8,11,0.1)*1000*(u.m/u.s)-vc.to(u.m/u.s)\n",
    "velvalues3=np.arange(5,8,0.1)*1000*(u.m/u.s)-vc.to(u.m/u.s)"
   ]
  },
  {
   "cell_type": "code",
   "execution_count": 25,
   "metadata": {},
   "outputs": [
    {
     "name": "stderr",
     "output_type": "stream",
     "text": [
      "/home/juan/anaconda3/envs/old_env/lib/python2.7/site-packages/astropy/units/quantity.py:641: RuntimeWarning: divide by zero encountered in power\n",
      "  *arrays, **kwargs)\n"
     ]
    }
   ],
   "source": [
    "#velvalues=np.arange(4,6,0.1)*1000-vc.to(u.m/u.s).value\n",
    "G=6.674e-11*u.m**3*u.s/u.kg\n",
    "#Mlist= [8.3*u.Msun,10.1*u.Msun]\n",
    "Mlist= [0.05*u.Msun,1.4*u.Msun]\n",
    "colors=['cyan','red']\n",
    "#In the future make a txt file with the possible masses organized in columns and automate this step to get info of M from there.\n",
    "l=0\n",
    "for M in Mlist:\n",
    "    rvalues=G*M.to(u.kg)*velvalues**-2 ##?## we use gas mass, but what happens to dust mass?\n",
    "    rvalues2=G*M.to(u.kg)*velvalues2**-2\n",
    "    rvalues3=G*M.to(u.kg)*velvalues3**-2#(from http://icc.dur.ac.uk/~tt/Lectures/Galaxies/TeX/lec/node41.html)\n",
    "    rvalarcs=rvalues.value*206265/(436*3.086*10**16)*u.arcsec#from km to arcsec (using smaal angle aprox). Distance to serpens south 436 parsecs\n",
    "    rvalarcs2=rvalues2.value*206265/(436*3.086*10**16)*u.arcsec\n",
    "    rvalarcs3=rvalues3.value*206265/(436*3.086*10**16)*u.arcsec\n",
    "    F4.show_lines([np.array([velvalues2.value+vc.to(u.m/u.s).value,rvalarcs2.to(u.deg).value+halflength.to(u.deg).value])],color=colors[l],linewidths=2.0,linestyles='-')#since we also have negative radii we als have to add\n",
    "    F4.show_lines([np.array([velvalues3.value+vc.to(u.m/u.s).value,-rvalarcs3.to(u.deg).value+halflength.to(u.deg).value])],color=colors[l],linewidths=2.0,linestyles='-')\n",
    "    l+=1"
   ]
  },
  {
   "cell_type": "markdown",
   "metadata": {},
   "source": [
    "### INFALL: (try with the different values of M obtained from the 2d-fit performed in CASA)"
   ]
  },
  {
   "cell_type": "markdown",
   "metadata": {},
   "source": [
    "### Panel (a): Moment 0 map"
   ]
  },
  {
   "cell_type": "markdown",
   "metadata": {},
   "source": [
    "### First make moment map"
   ]
  },
  {
   "cell_type": "code",
   "execution_count": 26,
   "metadata": {},
   "outputs": [
    {
     "name": "stderr",
     "output_type": "stream",
     "text": [
      "/home/juan/anaconda3/envs/old_env/lib/python2.7/site-packages/spectral_cube/masks.py:185: FutureWarning: Using a non-tuple sequence for multidimensional indexing is deprecated; use `arr[tuple(seq)]` instead of `arr[seq]`. In the future this will be interpreted as an array index, `arr[np.array(seq)]`, which will result either in an error or a different result.\n",
      "  sliced_data = data[view].astype(dt)\n",
      "/home/juan/anaconda3/envs/old_env/lib/python2.7/site-packages/spectral_cube/masks.py:503: FutureWarning: Using a non-tuple sequence for multidimensional indexing is deprecated; use `arr[tuple(seq)]` instead of `arr[seq]`. In the future this will be interpreted as an array index, `arr[np.array(seq)]`, which will result either in an error or a different result.\n",
      "  return self._function(self._data[view])\n"
     ]
    }
   ],
   "source": [
    "moment_0 = cube0.moment(order=0)"
   ]
  },
  {
   "cell_type": "markdown",
   "metadata": {},
   "source": [
    "### Plot it next to PV plot"
   ]
  },
  {
   "cell_type": "code",
   "execution_count": 27,
   "metadata": {},
   "outputs": [
    {
     "name": "stderr",
     "output_type": "stream",
     "text": [
      "/home/juan/anaconda3/envs/old_env/lib/python2.7/site-packages/aplpy/labels.py:432: UnicodeWarning: Unicode equal comparison failed to convert both arguments to Unicode - interpreting them as being unequal\n",
      "  if self.coord == x or self.axis.apl_tick_positions_world[ipos] > 0:\n"
     ]
    }
   ],
   "source": [
    "f2 = aplpy.FITSFigure(moment_0.hdu,dimensions=[0,1],figure=fig3,subplot=(leftpanel))\n",
    "#f2.set_system_latex(False)\n",
    "standard_setup(f2) "
   ]
  },
  {
   "cell_type": "code",
   "execution_count": 28,
   "metadata": {},
   "outputs": [],
   "source": [
    "f2._ax1.yaxis.labelpad = -20 ## Move label closer to figure #MOD"
   ]
  },
  {
   "cell_type": "code",
   "execution_count": 29,
   "metadata": {},
   "outputs": [],
   "source": [
    "mom0_vmin = np.nanmin(moment_0).value*0.4 #modify multiplicative factor to make #MOD better contrast\n",
    "mom0_vmax = np.nanmax(moment_0).value*0.6 #Shorten colorscale to make it more sensible for a higher number of pixels. #MOD"
   ]
  },
  {
   "cell_type": "code",
   "execution_count": 30,
   "metadata": {},
   "outputs": [
    {
     "name": "stderr",
     "output_type": "stream",
     "text": [
      "/home/juan/anaconda3/envs/old_env/lib/python2.7/site-packages/aplpy/normalize.py:115: RuntimeWarning: invalid value encountered in less\n",
      "  negative = result < 0.\n"
     ]
    }
   ],
   "source": [
    "f2.show_grayscale(vmin=mom0_vmin,vmax=mom0_vmax,invert=True)"
   ]
  },
  {
   "cell_type": "code",
   "execution_count": 31,
   "metadata": {},
   "outputs": [
    {
     "name": "stdout",
     "output_type": "stream",
     "text": [
      "(-61.5243382036686, 863.3586053319275)\n"
     ]
    }
   ],
   "source": [
    "print(mom0_vmin,mom0_vmax)"
   ]
  },
  {
   "cell_type": "code",
   "execution_count": 32,
   "metadata": {},
   "outputs": [],
   "source": [
    "xx=np.abs(cube0.header['NAXIS1']*cube0.header['cdelt1'])\n",
    "yy=np.abs(cube0.header['NAXIS2']*cube0.header['cdelt2'])"
   ]
  },
  {
   "cell_type": "code",
   "execution_count": 33,
   "metadata": {},
   "outputs": [],
   "source": [
    "mapwidth=5.*u.arcsec #MOD\n",
    "mapheight=5.*u.arcsec #MOD"
   ]
  },
  {
   "cell_type": "code",
   "execution_count": 34,
   "metadata": {},
   "outputs": [],
   "source": [
    "f2.recenter(RAcoord,Deccoord,width=2*mapwidth.to(u.deg).value,height=2*mapheight.to(u.deg).value) #edited height from 2* to 1*\n",
    "f2.show_markers(RAcoord, Deccoord,marker=\"*\",c='None',edgecolors=\"magenta\",s=300,linewidths=2.0,zorder='9')"
   ]
  },
  {
   "cell_type": "code",
   "execution_count": 35,
   "metadata": {},
   "outputs": [],
   "source": [
    "velwhole = cube0.spectral_axis.to(u.km/u.s)\n",
    "omitvel=0.4*u.km/u.s \n",
    "minimumvelocity = min(velwhole)\n",
    "maximumvelocity = vc-omitvel\n",
    "blucube = cube0.spectral_slab(min(velwhole),(vc-omitvel))\n",
    "redcube = cube0.spectral_slab((vc+omitvel),max(velwhole))\n",
    "moment_0_blu = blucube.moment(order=0)\n",
    "moment_0_red = redcube.moment(order=0)"
   ]
  },
  {
   "cell_type": "code",
   "execution_count": 36,
   "metadata": {},
   "outputs": [],
   "source": [
    "mom0_rmsb=moment_0_blu[689:719,939:977].std().value\n",
    "mom0_rmsr=moment_0_red[2259:2345,1886:1976].std().value\n",
    "f2.show_contour(moment_0_blu.hdu,colors='blue',levels=np.array([20,25,30])*mom0_rmsb,linewidths=2.0)\n",
    "f2.show_contour(moment_0_red.hdu,colors='red',levels=np.array([15,20,25])*mom0_rmsr,linewidths=2.0)"
   ]
  },
  {
   "cell_type": "markdown",
   "metadata": {},
   "source": [
    "### Show PV Cut"
   ]
  },
  {
   "cell_type": "code",
   "execution_count": 37,
   "metadata": {},
   "outputs": [],
   "source": [
    "f2.show_lines([endpoints_deg.T],color='DarkMagenta',linewidths=2.0,linestyle='-')\n",
    "#BEAMSIZE\n",
    "bmaj=1.043*u.arcsec.to(u.deg) #MOD\n",
    "bmin=0.7046*u.arcsec.to(u.deg) #MOD\n",
    "bpa=76.299 #MOD\n",
    "f2.show_beam(major=bmaj,minor=bmin,angle=bpa,fill=True,color='DeepSkyBlue') #MOD\n",
    "f2.add_label(0.22, 0.9, '(a) C18O map', relative=True, color=\"Black\", size=15) "
   ]
  },
  {
   "cell_type": "markdown",
   "metadata": {},
   "source": [
    "### Final annotations"
   ]
  },
  {
   "cell_type": "markdown",
   "metadata": {},
   "source": [
    "### Horizontal line to show resolution in PV Plot"
   ]
  },
  {
   "cell_type": "code",
   "execution_count": 38,
   "metadata": {},
   "outputs": [],
   "source": [
    "res_elem = 0.15*u.arcsec ##?## Where do I get this?? #resolution element, or beam size #MOD\n",
    "x1_res=res_elem.to(u.deg).value \n",
    "x2_res=x1_res+res_elem.to(u.deg).value \n",
    "y1_res=pvcube.spectral_axis.min().value\n",
    "y2_res=pvcube.spectral_axis.max().value "
   ]
  },
  {
   "cell_type": "markdown",
   "metadata": {},
   "source": [
    "### Beamsize"
   ]
  },
  {
   "cell_type": "code",
   "execution_count": 39,
   "metadata": {},
   "outputs": [],
   "source": [
    "F4.show_arrows(30080.,3./3600.,0.0,0.5*res_elem.to(u.deg).value,color='DeepSkyBlue',linestyles='-',head_length=0.1,head_width=5) \n",
    "F4.show_arrows(30080.,3./3600.,0.0,-0.5*res_elem.to(u.deg).value,color='DeepSkyBlue',linestyles='-',head_length=0.1,head_width=5)\n",
    "#F4.add_label(23000.,3./3600.,'0.14$^{\\prime\\prime}$ \\n 60 AU',layer='label',color='DeepSkyBlue',size=16, verticalalignment='center')"
   ]
  },
  {
   "cell_type": "markdown",
   "metadata": {},
   "source": [
    "### Set up a second Axis on top of pv plot, to show annotations (if necessary)"
   ]
  },
  {
   "cell_type": "code",
   "execution_count": 40,
   "metadata": {},
   "outputs": [],
   "source": [
    "ax2 = fig3.add_axes(rightpanel) \n",
    "ax2.set_xlim(xlim_lo,xlim_hi)\n",
    "ax2.set_ylim(ylim_lo,ylim_hi) \n",
    "ax2.set_axis_off()"
   ]
  },
  {
   "cell_type": "markdown",
   "metadata": {},
   "source": [
    "### VERTICAL (dashed) LINE TO SHOW v_c in PV Plot"
   ]
  },
  {
   "cell_type": "code",
   "execution_count": 41,
   "metadata": {},
   "outputs": [
    {
     "data": {
      "text/plain": [
       "<matplotlib.collections.LineCollection at 0x7fecf10eeb50>"
      ]
     },
     "execution_count": 41,
     "metadata": {},
     "output_type": "execute_result"
    }
   ],
   "source": [
    "hx1 = 0.\n",
    "hx2 = 2.*halflength.to(u.deg).value\n",
    "hy1 = vc.to(u.m/u.s).value\n",
    "ax2.vlines(hy1,hx1,hx2,colors='green',linestyles='dashed',label='$v_c$',zorder='3',lw=2) ##?## ##JP## I am getting vertical line shifted #MOD\n",
    "#ax2.annotate('$v_c$',xy=(hy1,x1_res*2.0),xycoords='data',color='green',size='16')"
   ]
  },
  {
   "cell_type": "markdown",
   "metadata": {},
   "source": [
    "### HORIZONTAL (dashed) LINE TO SHOW star position in PV Plot. Separate position to left and right from the source along the position line. "
   ]
  },
  {
   "cell_type": "code",
   "execution_count": 42,
   "metadata": {},
   "outputs": [],
   "source": [
    "hx3 = xlim_lo\n",
    "hx4 = xlim_hi\n",
    "hy3 = halflength.to(u.deg).value\n",
    "#### NOTE, You have to move these around a bit depending on your target. #MOD\n",
    "ax2.hlines(hy3,hx3,hx4,colors='magenta',linestyles='dashed',label='protostar',lw=2)\n",
    "#ax2.annotate('protostar',xy=(xlim_hi,hy3-2*res_elem.to(u.deg).value),xycoords='data',color='magenta',size='20',verticalalignment='top')\n",
    "#ax2.annotate('(b) CO, \\n PV diag.',xy=(xlim_hi,hy3+8*res_elem.to(u.deg).value),xycoords='data',color='Black',size='20',verticalalignment='top')\n",
    "F4.add_label(0.18,0.9,'(b) C18O \\n PV diag.',relative=True,color='Black',size=15)\n",
    "F4.add_label(0.8,0.55,'protostar',relative=True,color='magenta',size=13)\n",
    "F4.add_label(0.5,0.1,'Vc',relative=True,color='green',size=13)"
   ]
  },
  {
   "cell_type": "code",
   "execution_count": 43,
   "metadata": {},
   "outputs": [
    {
     "data": {
      "image/png": "[encoded data removed]",
      "text/plain": [
       "<Figure size 648x432 with 3 Axes>"
      ]
     },
     "execution_count": 43,
     "metadata": {},
     "output_type": "execute_result"
    }
   ],
   "source": [
    "fig3"
   ]
  },
  {
   "cell_type": "markdown",
   "metadata": {},
   "source": [
    "### Conclusion: Rotation (asymmetric?)"
   ]
  },
  {
   "cell_type": "markdown",
   "metadata": {},
   "source": [
    "### Show and Save"
   ]
  },
  {
   "cell_type": "code",
   "execution_count": 44,
   "metadata": {},
   "outputs": [],
   "source": [
    "#if writechan: \n",
    "  #plt.savefig(outname)\n",
    "#if not writechan:\n",
    " # print(\"print to screen\")\n",
    "#fig3.show() "
   ]
  }
 ],
 "metadata": {
  "kernelspec": {
   "display_name": "Python 2",
   "language": "python",
   "name": "python2"
  },
  "language_info": {
   "codemirror_mode": {
    "name": "ipython",
    "version": 2
   },
   "file_extension": ".py",
   "mimetype": "text/x-python",
   "name": "python",
   "nbconvert_exporter": "python",
   "pygments_lexer": "ipython2",
   "version": "2.7.18"
  }
 },
 "nbformat": 4,
 "nbformat_minor": 4
}
